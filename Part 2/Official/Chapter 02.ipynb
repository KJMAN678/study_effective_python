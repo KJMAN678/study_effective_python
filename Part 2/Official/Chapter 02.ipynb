{
 "cells": [
  {
   "cell_type": "markdown",
   "metadata": {},
   "source": [
    "### Chapter 02"
   ]
  },
  {
   "cell_type": "markdown",
   "metadata": {},
   "source": [
    "#### 11"
   ]
  },
  {
   "cell_type": "markdown",
   "metadata": {},
   "source": [
    "##### 11-01"
   ]
  },
  {
   "cell_type": "code",
   "execution_count": 1,
   "metadata": {},
   "outputs": [
    {
     "name": "stdout",
     "output_type": "stream",
     "text": [
      "Middle two:   ['d', 'e']\n",
      "All but ends: ['b', 'c', 'd', 'e', 'f', 'g']\n"
     ]
    }
   ],
   "source": [
    "a = ['a', 'b', 'c', 'd', 'e', 'f', 'g', 'h']\n",
    "print('Middle two:  ', a[3:5])\n",
    "print('All but ends:', a[1:7])"
   ]
  },
  {
   "cell_type": "markdown",
   "metadata": {},
   "source": [
    "##### 11-02"
   ]
  },
  {
   "cell_type": "code",
   "execution_count": 2,
   "metadata": {},
   "outputs": [],
   "source": [
    "assert a[:5] == a[0:5]"
   ]
  },
  {
   "cell_type": "markdown",
   "metadata": {},
   "source": [
    "##### 11-03"
   ]
  },
  {
   "cell_type": "code",
   "execution_count": 3,
   "metadata": {},
   "outputs": [],
   "source": [
    "assert a[5:] == a[5:len(a)]"
   ]
  },
  {
   "cell_type": "markdown",
   "metadata": {},
   "source": [
    "##### 11-04"
   ]
  },
  {
   "cell_type": "code",
   "execution_count": 4,
   "metadata": {},
   "outputs": [
    {
     "name": "stdout",
     "output_type": "stream",
     "text": [
      "['a', 'b', 'c', 'd', 'e', 'f', 'g', 'h']\n",
      "['a', 'b', 'c', 'd', 'e']\n",
      "['a', 'b', 'c', 'd', 'e', 'f', 'g']\n",
      "['e', 'f', 'g', 'h']\n",
      "['f', 'g', 'h']\n",
      "['c', 'd', 'e']\n",
      "['c', 'd', 'e', 'f', 'g']\n",
      "['f', 'g']\n"
     ]
    }
   ],
   "source": [
    "print(a[:])\n",
    "print(a[:5])\n",
    "print(a[:-1])\n",
    "print(a[4:])\n",
    "print(a[-3:])\n",
    "print(a[2:5])\n",
    "print(a[2:-1])\n",
    "print(a[-3:-1])"
   ]
  },
  {
   "cell_type": "markdown",
   "metadata": {},
   "source": [
    "##### 11-05"
   ]
  },
  {
   "cell_type": "code",
   "execution_count": 5,
   "metadata": {},
   "outputs": [
    {
     "data": {
      "text/plain": [
       "['f', 'g']"
      ]
     },
     "execution_count": 5,
     "metadata": {},
     "output_type": "execute_result"
    }
   ],
   "source": [
    "a[:]      # ['a', 'b', 'c', 'd', 'e', 'f', 'g', 'h']\n",
    "a[:5]     # ['a', 'b', 'c', 'd', 'e']\n",
    "a[:-1]    # ['a', 'b', 'c', 'd', 'e', 'f', 'g']\n",
    "a[4:]     #                     ['e', 'f', 'g', 'h']\n",
    "a[-3:]    #                          ['f', 'g', 'h']\n",
    "a[2:5]    #           ['c', 'd', 'e']\n",
    "a[2:-1]   #           ['c', 'd', 'e', 'f', 'g']\n",
    "a[-3:-1]  #                          ['f', 'g']"
   ]
  },
  {
   "cell_type": "markdown",
   "metadata": {},
   "source": [
    "##### 11-06"
   ]
  },
  {
   "cell_type": "code",
   "execution_count": 6,
   "metadata": {},
   "outputs": [],
   "source": [
    "first_twenty_items = a[:20]\n",
    "last_twenty_items = a[-20:]"
   ]
  },
  {
   "cell_type": "markdown",
   "metadata": {},
   "source": [
    "##### 11-07"
   ]
  },
  {
   "cell_type": "markdown",
   "metadata": {},
   "source": [
    "try:\n",
    "    a[20]\n",
    "except:\n",
    "    logging.exception('Expected')\n",
    "else:\n",
    "    assert False"
   ]
  },
  {
   "cell_type": "markdown",
   "metadata": {},
   "source": [
    "##### 11-08"
   ]
  },
  {
   "cell_type": "code",
   "execution_count": 7,
   "metadata": {},
   "outputs": [
    {
     "name": "stdout",
     "output_type": "stream",
     "text": [
      "Before:    ['d', 'e', 'f', 'g', 'h']\n",
      "After:     ['d', 99, 'f', 'g', 'h']\n",
      "No change: ['a', 'b', 'c', 'd', 'e', 'f', 'g', 'h']\n"
     ]
    }
   ],
   "source": [
    "b = a[3:]\n",
    "print('Before:   ', b)\n",
    "b[1] = 99\n",
    "print('After:    ', b)\n",
    "print('No change:', a)"
   ]
  },
  {
   "cell_type": "markdown",
   "metadata": {},
   "source": [
    "##### 11-09"
   ]
  },
  {
   "cell_type": "code",
   "execution_count": 8,
   "metadata": {},
   "outputs": [
    {
     "name": "stdout",
     "output_type": "stream",
     "text": [
      "Before  ['a', 'b', 'c', 'd', 'e', 'f', 'g', 'h']\n",
      "After   ['a', 'b', 99, 22, 14, 'h']\n"
     ]
    }
   ],
   "source": [
    "print('Before ', a)\n",
    "a[2:7] = [99, 22, 14]\n",
    "print('After  ', a)"
   ]
  },
  {
   "cell_type": "markdown",
   "metadata": {},
   "source": [
    "##### 11-10"
   ]
  },
  {
   "cell_type": "code",
   "execution_count": 9,
   "metadata": {},
   "outputs": [
    {
     "name": "stdout",
     "output_type": "stream",
     "text": [
      "Before  ['a', 'b', 99, 22, 14, 'h']\n",
      "After   ['a', 'b', 47, 11, 22, 14, 'h']\n"
     ]
    }
   ],
   "source": [
    "print('Before ', a)\n",
    "a[2:3] = [47, 11]\n",
    "print('After  ', a)"
   ]
  },
  {
   "cell_type": "markdown",
   "metadata": {},
   "source": [
    "##### 11-11"
   ]
  },
  {
   "cell_type": "code",
   "execution_count": 10,
   "metadata": {},
   "outputs": [],
   "source": [
    "b = a[:]\n",
    "assert b == a and b is not a"
   ]
  },
  {
   "cell_type": "markdown",
   "metadata": {},
   "source": [
    "##### 11-12"
   ]
  },
  {
   "cell_type": "code",
   "execution_count": 10,
   "metadata": {},
   "outputs": [
    {
     "name": "stdout",
     "output_type": "stream",
     "text": [
      "Before a ['a', 'b', 47, 11, 22, 14, 'h']\n",
      "Before b ['a', 'b', 47, 11, 22, 14, 'h']\n",
      "After a  [101, 102, 103]\n",
      "After b  [101, 102, 103]\n"
     ]
    }
   ],
   "source": [
    "b = a\n",
    "print('Before a', a)\n",
    "print('Before b', b)\n",
    "a[:] = [101, 102, 103]\n",
    "assert a is b             # Still the same list object\n",
    "print('After a ', a)      # Now has different contents\n",
    "print('After b ', b)      # Same list, so same contents as a"
   ]
  },
  {
   "cell_type": "markdown",
   "metadata": {},
   "source": [
    "#### 12"
   ]
  },
  {
   "cell_type": "markdown",
   "metadata": {},
   "source": [
    "##### 12-01"
   ]
  },
  {
   "cell_type": "code",
   "execution_count": 11,
   "metadata": {},
   "outputs": [
    {
     "name": "stdout",
     "output_type": "stream",
     "text": [
      "['red', 'yellow', 'blue']\n",
      "['orange', 'green', 'purple']\n"
     ]
    }
   ],
   "source": [
    "x = ['red', 'orange', 'yellow', 'green', 'blue', 'purple']\n",
    "odds = x[::2]\n",
    "evens = x[1::2]\n",
    "print(odds)\n",
    "print(evens)"
   ]
  },
  {
   "cell_type": "markdown",
   "metadata": {},
   "source": [
    "##### 12-02"
   ]
  },
  {
   "cell_type": "code",
   "execution_count": 12,
   "metadata": {},
   "outputs": [
    {
     "name": "stdout",
     "output_type": "stream",
     "text": [
      "b'esoognom'\n"
     ]
    }
   ],
   "source": [
    "x = b'mongoose'\n",
    "y = x[::-1]\n",
    "print(y)"
   ]
  },
  {
   "cell_type": "markdown",
   "metadata": {},
   "source": [
    "##### 12-03"
   ]
  },
  {
   "cell_type": "code",
   "execution_count": 13,
   "metadata": {},
   "outputs": [
    {
     "name": "stdout",
     "output_type": "stream",
     "text": [
      "司寿\n"
     ]
    }
   ],
   "source": [
    "x = '寿司'\n",
    "y = x[::-1]\n",
    "print(y)"
   ]
  },
  {
   "cell_type": "markdown",
   "metadata": {},
   "source": [
    "##### 12-04"
   ]
  },
  {
   "cell_type": "code",
   "execution_count": 14,
   "metadata": {},
   "outputs": [
    {
     "name": "stderr",
     "output_type": "stream",
     "text": [
      "ERROR:root:Expected\n",
      "Traceback (most recent call last):\n",
      "  File \"<ipython-input-14-035206d646d6>\", line 6, in <module>\n",
      "    z = y.decode('utf-8')\n",
      "UnicodeDecodeError: 'utf-8' codec can't decode byte 0xb8 in position 0: invalid start byte\n"
     ]
    }
   ],
   "source": [
    "import logging\n",
    "try:\n",
    "    w = '寿司'\n",
    "    x = w.encode('utf-8')\n",
    "    y = x[::-1]\n",
    "    z = y.decode('utf-8')\n",
    "except:\n",
    "    logging.exception('Expected')\n",
    "else:\n",
    "    assert False"
   ]
  },
  {
   "cell_type": "markdown",
   "metadata": {},
   "source": [
    "##### 12-05"
   ]
  },
  {
   "cell_type": "code",
   "execution_count": 15,
   "metadata": {},
   "outputs": [
    {
     "data": {
      "text/plain": [
       "['h', 'f', 'd', 'b']"
      ]
     },
     "execution_count": 15,
     "metadata": {},
     "output_type": "execute_result"
    }
   ],
   "source": [
    "x = ['a', 'b', 'c', 'd', 'e', 'f', 'g', 'h']\n",
    "x[::2]   # ['a', 'c', 'e', 'g']\n",
    "x[::-2]  # ['h', 'f', 'd', 'b']"
   ]
  },
  {
   "cell_type": "markdown",
   "metadata": {},
   "source": [
    "##### 12-06"
   ]
  },
  {
   "cell_type": "code",
   "execution_count": 16,
   "metadata": {},
   "outputs": [
    {
     "data": {
      "text/plain": [
       "[]"
      ]
     },
     "execution_count": 16,
     "metadata": {},
     "output_type": "execute_result"
    }
   ],
   "source": [
    "x[2::2]     # ['c', 'e', 'g']\n",
    "x[-2::-2]   # ['g', 'e', 'c', 'a']\n",
    "x[-2:2:-2]  # ['g', 'e']\n",
    "x[2:2:-2]   # []"
   ]
  },
  {
   "cell_type": "markdown",
   "metadata": {},
   "source": [
    "##### 12-07"
   ]
  },
  {
   "cell_type": "code",
   "execution_count": 17,
   "metadata": {},
   "outputs": [
    {
     "name": "stdout",
     "output_type": "stream",
     "text": [
      "['a', 'b', 'c', 'd', 'e', 'f', 'g', 'h']\n",
      "['a', 'c', 'e', 'g']\n",
      "['c', 'e']\n"
     ]
    }
   ],
   "source": [
    "y = x[::2]   # ['a', 'c', 'e', 'g']\n",
    "z = y[1:-1]  # ['c', 'e']\n",
    "print(x)\n",
    "print(y)\n",
    "print(z)"
   ]
  },
  {
   "cell_type": "markdown",
   "metadata": {},
   "source": [
    "#### 13"
   ]
  },
  {
   "cell_type": "markdown",
   "metadata": {},
   "source": [
    "##### 13-01"
   ]
  },
  {
   "cell_type": "code",
   "execution_count": 19,
   "metadata": {},
   "outputs": [
    {
     "name": "stderr",
     "output_type": "stream",
     "text": [
      "ERROR:root:Expected\n",
      "Traceback (most recent call last):\n",
      "  File \"<ipython-input-19-794ff3db8952>\", line 4, in <module>\n",
      "    oldest, second_oldest = car_ages_descending\n",
      "ValueError: too many values to unpack (expected 2)\n"
     ]
    }
   ],
   "source": [
    "try:\n",
    "    car_ages = [0, 9, 4, 8, 7, 20, 19, 1, 6, 15]\n",
    "    car_ages_descending = sorted(car_ages, reverse=True)\n",
    "    oldest, second_oldest = car_ages_descending\n",
    "except:\n",
    "    logging.exception('Expected')\n",
    "else:\n",
    "    assert False"
   ]
  },
  {
   "cell_type": "code",
   "execution_count": 23,
   "metadata": {},
   "outputs": [
    {
     "data": {
      "text/plain": [
       "[20, 19, 15, 9, 8, 7, 6, 4, 1, 0]"
      ]
     },
     "execution_count": 23,
     "metadata": {},
     "output_type": "execute_result"
    }
   ],
   "source": [
    "car_ages_descending"
   ]
  },
  {
   "cell_type": "markdown",
   "metadata": {},
   "source": [
    "##### 13-02\n",
    "Python3.xのアスタリスク逆引き  \n",
    "左辺に複数の要素を置くとき1、要素のひとつにアスタリスクを付けることが出来る。  \n",
    "上記の例では、左から順に代入を終えたあと、余った要素が*月の変数に放り込まれる。\n",
    "https://qiita.com/LouiS0616/items/1bbe0a9bb93054f6c380  "
   ]
  },
  {
   "cell_type": "code",
   "execution_count": 20,
   "metadata": {},
   "outputs": [
    {
     "name": "stdout",
     "output_type": "stream",
     "text": [
      "20 19 [15, 9, 8, 7, 6, 4, 1, 0]\n"
     ]
    }
   ],
   "source": [
    "oldest = car_ages_descending[0]\n",
    "second_oldest = car_ages_descending[1]\n",
    "others = car_ages_descending[2:]\n",
    "print(oldest, second_oldest, others)"
   ]
  },
  {
   "cell_type": "code",
   "execution_count": 27,
   "metadata": {},
   "outputs": [
    {
     "name": "stdout",
     "output_type": "stream",
     "text": [
      "1 2 [3, 4, 5]\n"
     ]
    }
   ],
   "source": [
    "a, b, *other = [1, 2, 3, 4, 5]\n",
    "print(a, b, other)"
   ]
  },
  {
   "cell_type": "code",
   "execution_count": 28,
   "metadata": {},
   "outputs": [
    {
     "name": "stdout",
     "output_type": "stream",
     "text": [
      "1 [2, 3, 4] 5\n"
     ]
    }
   ],
   "source": [
    "a, *b, other = [1, 2, 3, 4, 5]\n",
    "print(a, b, other)"
   ]
  },
  {
   "cell_type": "code",
   "execution_count": 29,
   "metadata": {},
   "outputs": [
    {
     "name": "stdout",
     "output_type": "stream",
     "text": [
      "[1, 2, 3] 4 5\n"
     ]
    }
   ],
   "source": [
    "*a, b, other = [1, 2, 3, 4, 5]\n",
    "print(a, b, other)"
   ]
  },
  {
   "cell_type": "markdown",
   "metadata": {},
   "source": [
    "##### 13-03"
   ]
  },
  {
   "cell_type": "code",
   "execution_count": 21,
   "metadata": {},
   "outputs": [
    {
     "name": "stdout",
     "output_type": "stream",
     "text": [
      "20 19 [15, 9, 8, 7, 6, 4, 1, 0]\n"
     ]
    }
   ],
   "source": [
    "oldest, second_oldest, *others = car_ages_descending\n",
    "print(oldest, second_oldest, others)"
   ]
  },
  {
   "cell_type": "markdown",
   "metadata": {},
   "source": [
    "##### 13-04"
   ]
  },
  {
   "cell_type": "code",
   "execution_count": 22,
   "metadata": {},
   "outputs": [
    {
     "name": "stdout",
     "output_type": "stream",
     "text": [
      "20 0 [19, 15, 9, 8, 7, 6, 4, 1]\n",
      "0 1 [20, 19, 15, 9, 8, 7, 6, 4]\n"
     ]
    }
   ],
   "source": [
    "# oldestに最初の20、youngustに最後の0が代入され、*付きのothersに配列の残り全てが代入される\n",
    "oldest, *others, youngest = car_ages_descending\n",
    "print(oldest, youngest, others)\n",
    "\n",
    "# second_youngustに最後から2番目の1、youngestに最後の0が代入され、*付きのothersに配列の残り全てが代入される\n",
    "*others, second_youngest, youngest = car_ages_descending\n",
    "print(youngest, second_youngest, others)"
   ]
  },
  {
   "cell_type": "markdown",
   "metadata": {},
   "source": [
    "##### 13-05\n",
    "Python の eval と exec  \n",
    "https://qiita.com/kyoshidajp/items/57ae371b3f5d8a84fb13  \n",
    "eval は第1引数を式として評価する"
   ]
  },
  {
   "cell_type": "code",
   "execution_count": 30,
   "metadata": {},
   "outputs": [
    {
     "name": "stderr",
     "output_type": "stream",
     "text": [
      "ERROR:root:Expected\n",
      "Traceback (most recent call last):\n",
      "  File \"<ipython-input-30-f4b122de3dba>\", line 4, in <module>\n",
      "    eval(source)\n",
      "  File \"<string>\", line 1\n",
      "    *others = car_ages_descending\n",
      "    ^\n",
      "SyntaxError: invalid syntax\n"
     ]
    }
   ],
   "source": [
    "try:\n",
    "    # This will not compile\n",
    "    source = \"\"\"*others = car_ages_descending\"\"\"\n",
    "    eval(source)\n",
    "except:\n",
    "    logging.exception('Expected')\n",
    "else:\n",
    "    assert False"
   ]
  },
  {
   "cell_type": "markdown",
   "metadata": {},
   "source": [
    "##### 13-06"
   ]
  },
  {
   "cell_type": "code",
   "execution_count": 31,
   "metadata": {},
   "outputs": [
    {
     "name": "stderr",
     "output_type": "stream",
     "text": [
      "ERROR:root:Expected\n",
      "Traceback (most recent call last):\n",
      "  File \"<ipython-input-31-f0d97b6a999c>\", line 4, in <module>\n",
      "    eval(source)\n",
      "  File \"<string>\", line 1\n",
      "    first, *middle, *second_middle, last = [1, 2, 3, 4]\n",
      "           ^\n",
      "SyntaxError: invalid syntax\n"
     ]
    }
   ],
   "source": [
    "try:\n",
    "    # This will not compile\n",
    "    source = \"\"\"first, *middle, *second_middle, last = [1, 2, 3, 4]\"\"\"\n",
    "    eval(source)\n",
    "except:\n",
    "    logging.exception('Expected')\n",
    "else:\n",
    "    assert False"
   ]
  },
  {
   "cell_type": "markdown",
   "metadata": {},
   "source": [
    "##### 13-07"
   ]
  },
  {
   "cell_type": "code",
   "execution_count": 32,
   "metadata": {},
   "outputs": [
    {
     "name": "stdout",
     "output_type": "stream",
     "text": [
      "Best at Downtown is Silver Shadow, 2 others\n",
      "Best at Airport is Skyline, 3 others\n"
     ]
    }
   ],
   "source": [
    "car_inventory = {\n",
    "    'Downtown': ('Silver Shadow', 'Pinto', 'DMC'),\n",
    "    'Airport': ('Skyline', 'Viper', 'Gremlin', 'Nova'),\n",
    "}\n",
    "\n",
    "((loc1, (best1, *rest1)),\n",
    " (loc2, (best2, *rest2))) = car_inventory.items()\n",
    "\n",
    "print(f'Best at {loc1} is {best1}, {len(rest1)} others')\n",
    "print(f'Best at {loc2} is {best2}, {len(rest2)} others')"
   ]
  },
  {
   "cell_type": "markdown",
   "metadata": {},
   "source": [
    "##### 13-08"
   ]
  },
  {
   "cell_type": "code",
   "execution_count": 33,
   "metadata": {},
   "outputs": [
    {
     "name": "stdout",
     "output_type": "stream",
     "text": [
      "1 2 []\n"
     ]
    }
   ],
   "source": [
    "short_list = [1, 2]\n",
    "first, second, *rest = short_list\n",
    "print(first, second, rest)"
   ]
  },
  {
   "cell_type": "markdown",
   "metadata": {},
   "source": [
    "##### 13-09\n",
    "[Python] イテレータを実装する  \n",
    "https://qiita.com/tchnkmr/items/e740173d7400f8672d75  \n",
    "iter()でイテレーターオブジェクトを作成する  \n",
    "イテレータオブジェクトは組み込み関数next()を使用すると要素を一つずつ取り出すことができる"
   ]
  },
  {
   "cell_type": "code",
   "execution_count": 36,
   "metadata": {},
   "outputs": [
    {
     "name": "stdout",
     "output_type": "stream",
     "text": [
      "1 and 2\n"
     ]
    }
   ],
   "source": [
    "it = iter(range(1, 3))\n",
    "first, second = it\n",
    "print(f'{first} and {second}')"
   ]
  },
  {
   "cell_type": "markdown",
   "metadata": {},
   "source": [
    "##### 13-10"
   ]
  },
  {
   "cell_type": "code",
   "execution_count": 37,
   "metadata": {},
   "outputs": [],
   "source": [
    "def generate_csv():\n",
    "    yield ('Date', 'Make' , 'Model', 'Year', 'Price')\n",
    "    for i in range(100):\n",
    "        yield ('2019-03-25', 'Honda', 'Fit' , '2010', '$3400')\n",
    "        yield ('2019-03-26', 'Ford', 'F150' , '2008', '$2400')"
   ]
  },
  {
   "cell_type": "markdown",
   "metadata": {},
   "source": [
    "13-11（スライス）と13-12（*を使ったアンパック）は同じ結果となる"
   ]
  },
  {
   "cell_type": "markdown",
   "metadata": {},
   "source": [
    "##### 13-11"
   ]
  },
  {
   "cell_type": "code",
   "execution_count": 38,
   "metadata": {},
   "outputs": [
    {
     "name": "stdout",
     "output_type": "stream",
     "text": [
      "CSV Header: ('Date', 'Make', 'Model', 'Year', 'Price')\n",
      "Row count:  200\n"
     ]
    }
   ],
   "source": [
    "all_csv_rows = list(generate_csv())\n",
    "header = all_csv_rows[0]\n",
    "rows = all_csv_rows[1:]\n",
    "print('CSV Header:', header)\n",
    "print('Row count: ', len(rows))"
   ]
  },
  {
   "cell_type": "markdown",
   "metadata": {},
   "source": [
    "##### 13-12"
   ]
  },
  {
   "cell_type": "code",
   "execution_count": 39,
   "metadata": {},
   "outputs": [
    {
     "name": "stdout",
     "output_type": "stream",
     "text": [
      "CSV Header: ('Date', 'Make', 'Model', 'Year', 'Price')\n",
      "Row count:  200\n"
     ]
    }
   ],
   "source": [
    "it = generate_csv()\n",
    "header, *rows = it\n",
    "print('CSV Header:', header)\n",
    "print('Row count: ', len(rows))"
   ]
  },
  {
   "cell_type": "markdown",
   "metadata": {},
   "source": [
    "#### 14"
   ]
  },
  {
   "cell_type": "markdown",
   "metadata": {},
   "source": [
    "##### 14-01"
   ]
  },
  {
   "cell_type": "code",
   "execution_count": 40,
   "metadata": {},
   "outputs": [
    {
     "name": "stdout",
     "output_type": "stream",
     "text": [
      "[11, 68, 70, 86, 93]\n"
     ]
    }
   ],
   "source": [
    "numbers = [93, 86, 11, 68, 70]\n",
    "numbers.sort()\n",
    "print(numbers)"
   ]
  },
  {
   "cell_type": "markdown",
   "metadata": {},
   "source": [
    "##### 14-02"
   ]
  },
  {
   "cell_type": "code",
   "execution_count": 42,
   "metadata": {},
   "outputs": [],
   "source": [
    "class Tool:\n",
    "    def __init__(self, name, weight):\n",
    "        self.name = name\n",
    "        self.weight = weight\n",
    "\n",
    "    def __repr__(self):\n",
    "        return f'Tool({self.name!r}, {self.weight})'\n",
    "\n",
    "tools = [\n",
    "    Tool('level', 3.5),\n",
    "    Tool('hammer', 1.25),\n",
    "    Tool('screwdriver', 0.5),\n",
    "    Tool('chisel', 0.25),\n",
    "]"
   ]
  },
  {
   "cell_type": "code",
   "execution_count": 44,
   "metadata": {},
   "outputs": [
    {
     "data": {
      "text/plain": [
       "[Tool('level', 3.5),\n",
       " Tool('hammer', 1.25),\n",
       " Tool('screwdriver', 0.5),\n",
       " Tool('chisel', 0.25)]"
      ]
     },
     "execution_count": 44,
     "metadata": {},
     "output_type": "execute_result"
    }
   ],
   "source": [
    "tools"
   ]
  },
  {
   "cell_type": "code",
   "execution_count": 45,
   "metadata": {},
   "outputs": [],
   "source": [
    "class Tool:\n",
    "    def __init__(self, name, weight):\n",
    "        self.name = name\n",
    "        self.weight = weight\n",
    "\n",
    "    def __repr__(self):\n",
    "        return f'Tool({self.name}, {self.weight})'\n",
    "\n",
    "tools = [\n",
    "    Tool('level', 3.5),\n",
    "    Tool('hammer', 1.25),\n",
    "    Tool('screwdriver', 0.5),\n",
    "    Tool('chisel', 0.25),\n",
    "]"
   ]
  },
  {
   "cell_type": "code",
   "execution_count": 46,
   "metadata": {},
   "outputs": [
    {
     "data": {
      "text/plain": [
       "[Tool(level, 3.5),\n",
       " Tool(hammer, 1.25),\n",
       " Tool(screwdriver, 0.5),\n",
       " Tool(chisel, 0.25)]"
      ]
     },
     "execution_count": 46,
     "metadata": {},
     "output_type": "execute_result"
    }
   ],
   "source": [
    "tools"
   ]
  },
  {
   "cell_type": "markdown",
   "metadata": {},
   "source": [
    "##### 14-03"
   ]
  },
  {
   "cell_type": "code",
   "execution_count": 47,
   "metadata": {},
   "outputs": [
    {
     "name": "stderr",
     "output_type": "stream",
     "text": [
      "ERROR:root:Expected\n",
      "Traceback (most recent call last):\n",
      "  File \"<ipython-input-47-3d26a5da5023>\", line 2, in <module>\n",
      "    tools.sort()\n",
      "TypeError: '<' not supported between instances of 'Tool' and 'Tool'\n"
     ]
    }
   ],
   "source": [
    "try:\n",
    "    tools.sort()\n",
    "except:\n",
    "    logging.exception('Expected')\n",
    "else:\n",
    "    assert False"
   ]
  },
  {
   "cell_type": "markdown",
   "metadata": {},
   "source": [
    "##### 14-04\n",
    "Pythonのstr( )とrepr( )の使い分け  \n",
    "https://gammasoft.jp/blog/use-diffence-str-and-repr-python/  \n",
    "repr(object)  \n",
    "objectをeval()で再び元のオブジェクトに戻せる文字列に変換して返す。representationの略。  \n",
    "デバッグ用に出力する。"
   ]
  },
  {
   "cell_type": "code",
   "execution_count": 49,
   "metadata": {},
   "outputs": [
    {
     "name": "stdout",
     "output_type": "stream",
     "text": [
      "Unsorted: [Tool(chisel, 0.25), Tool(hammer, 1.25), Tool(level, 3.5), Tool(screwdriver, 0.5)]\n",
      "\n",
      "Sorted:   [Tool(chisel, 0.25), Tool(hammer, 1.25), Tool(level, 3.5), Tool(screwdriver, 0.5)]\n"
     ]
    }
   ],
   "source": [
    "print('Unsorted:', repr(tools))\n",
    "tools.sort(key=lambda x: x.name)\n",
    "print('\\nSorted:  ', tools)"
   ]
  },
  {
   "cell_type": "markdown",
   "metadata": {},
   "source": [
    "##### 14-05"
   ]
  },
  {
   "cell_type": "code",
   "execution_count": 50,
   "metadata": {},
   "outputs": [
    {
     "name": "stdout",
     "output_type": "stream",
     "text": [
      "By weight: [Tool(chisel, 0.25), Tool(screwdriver, 0.5), Tool(hammer, 1.25), Tool(level, 3.5)]\n"
     ]
    }
   ],
   "source": [
    "tools.sort(key=lambda x: x.weight)\n",
    "print('By weight:', tools)"
   ]
  },
  {
   "cell_type": "markdown",
   "metadata": {},
   "source": [
    "##### 14-06"
   ]
  },
  {
   "cell_type": "code",
   "execution_count": 51,
   "metadata": {},
   "outputs": [
    {
     "name": "stdout",
     "output_type": "stream",
     "text": [
      "Case sensitive:   ['New York', 'Paris', 'home', 'work']\n",
      "Case insensitive: ['home', 'New York', 'Paris', 'work']\n"
     ]
    }
   ],
   "source": [
    "places = ['home', 'work', 'New York', 'Paris']\n",
    "places.sort()\n",
    "print('Case sensitive:  ', places)\n",
    "places.sort(key=lambda x: x.lower())\n",
    "print('Case insensitive:', places)"
   ]
  },
  {
   "cell_type": "markdown",
   "metadata": {},
   "source": [
    "##### 14-07"
   ]
  },
  {
   "cell_type": "code",
   "execution_count": 52,
   "metadata": {},
   "outputs": [],
   "source": [
    "power_tools = [\n",
    "    Tool('drill', 4),\n",
    "    Tool('circular saw', 5),\n",
    "    Tool('jackhammer', 40),\n",
    "    Tool('sander', 4),\n",
    "]"
   ]
  },
  {
   "cell_type": "markdown",
   "metadata": {},
   "source": [
    "##### 14-08"
   ]
  },
  {
   "cell_type": "code",
   "execution_count": 54,
   "metadata": {},
   "outputs": [],
   "source": [
    "saw = (5, 'circular saw')\n",
    "jackhammer = (40, 'jackhammer')\n",
    "assert not (jackhammer < saw)  # Matches expectations"
   ]
  },
  {
   "cell_type": "markdown",
   "metadata": {},
   "source": [
    "##### 14-09"
   ]
  },
  {
   "cell_type": "code",
   "execution_count": 55,
   "metadata": {},
   "outputs": [],
   "source": [
    "drill = (4, 'drill')\n",
    "sander = (4, 'sander')\n",
    "assert drill[0] == sander[0]  # Same weight\n",
    "assert drill[1] < sander[1]   # Alphabetically less\n",
    "assert drill < sander         # Thus, drill comes first"
   ]
  },
  {
   "cell_type": "markdown",
   "metadata": {},
   "source": [
    "##### 14-10"
   ]
  },
  {
   "cell_type": "code",
   "execution_count": 56,
   "metadata": {},
   "outputs": [
    {
     "name": "stdout",
     "output_type": "stream",
     "text": [
      "[Tool(drill, 4), Tool(sander, 4), Tool(circular saw, 5), Tool(jackhammer, 40)]\n"
     ]
    }
   ],
   "source": [
    "power_tools.sort(key=lambda x: (x.weight, x.name))\n",
    "print(power_tools)"
   ]
  },
  {
   "cell_type": "markdown",
   "metadata": {},
   "source": [
    "##### 14-11"
   ]
  },
  {
   "cell_type": "code",
   "execution_count": 57,
   "metadata": {},
   "outputs": [
    {
     "name": "stdout",
     "output_type": "stream",
     "text": [
      "[Tool(jackhammer, 40), Tool(circular saw, 5), Tool(sander, 4), Tool(drill, 4)]\n"
     ]
    }
   ],
   "source": [
    "power_tools.sort(key=lambda x: (x.weight, x.name),\n",
    "                 reverse=True)  # Makes all criteria descending\n",
    "print(power_tools)"
   ]
  },
  {
   "cell_type": "markdown",
   "metadata": {},
   "source": [
    "##### 14-12"
   ]
  },
  {
   "cell_type": "code",
   "execution_count": null,
   "metadata": {},
   "outputs": [],
   "source": [
    "power_tools.sort(key=lambda x: (-x.weight, x.name))\n",
    "print(power_tools)"
   ]
  },
  {
   "cell_type": "markdown",
   "metadata": {},
   "source": [
    "##### 14-13"
   ]
  },
  {
   "cell_type": "code",
   "execution_count": 58,
   "metadata": {},
   "outputs": [
    {
     "name": "stderr",
     "output_type": "stream",
     "text": [
      "ERROR:root:Expected\n",
      "Traceback (most recent call last):\n",
      "  File \"<ipython-input-58-facee4510f25>\", line 3, in <module>\n",
      "    reverse=True)\n",
      "  File \"<ipython-input-58-facee4510f25>\", line 2, in <lambda>\n",
      "    power_tools.sort(key=lambda x: (x.weight, -x.name),\n",
      "TypeError: bad operand type for unary -: 'str'\n"
     ]
    }
   ],
   "source": [
    "try:\n",
    "    power_tools.sort(key=lambda x: (x.weight, -x.name),\n",
    "                     reverse=True)\n",
    "except:\n",
    "    logging.exception('Expected')\n",
    "else:\n",
    "    assert False"
   ]
  },
  {
   "cell_type": "markdown",
   "metadata": {},
   "source": [
    "##### 14-14"
   ]
  },
  {
   "cell_type": "code",
   "execution_count": 59,
   "metadata": {},
   "outputs": [
    {
     "name": "stdout",
     "output_type": "stream",
     "text": [
      "[Tool(jackhammer, 40), Tool(circular saw, 5), Tool(drill, 4), Tool(sander, 4)]\n"
     ]
    }
   ],
   "source": [
    "power_tools.sort(key=lambda x: x.name)   # Name ascending\n",
    "\n",
    "power_tools.sort(key=lambda x: x.weight, # Weight descending\n",
    "                 reverse=True)\n",
    "\n",
    "print(power_tools)"
   ]
  },
  {
   "cell_type": "markdown",
   "metadata": {},
   "source": [
    "##### 14-15"
   ]
  },
  {
   "cell_type": "code",
   "execution_count": 60,
   "metadata": {},
   "outputs": [
    {
     "name": "stdout",
     "output_type": "stream",
     "text": [
      "[Tool(circular saw, 5), Tool(drill, 4), Tool(jackhammer, 40), Tool(sander, 4)]\n"
     ]
    }
   ],
   "source": [
    "power_tools.sort(key=lambda x: x.name)\n",
    "print(power_tools)\n"
   ]
  },
  {
   "cell_type": "markdown",
   "metadata": {},
   "source": [
    "##### 14-16"
   ]
  },
  {
   "cell_type": "code",
   "execution_count": 61,
   "metadata": {},
   "outputs": [
    {
     "name": "stdout",
     "output_type": "stream",
     "text": [
      "[Tool(jackhammer, 40), Tool(circular saw, 5), Tool(drill, 4), Tool(sander, 4)]\n"
     ]
    }
   ],
   "source": [
    "power_tools.sort(key=lambda x: x.weight,\n",
    "                 reverse=True)\n",
    "print(power_tools)"
   ]
  },
  {
   "cell_type": "markdown",
   "metadata": {},
   "source": [
    "#### 15"
   ]
  },
  {
   "cell_type": "markdown",
   "metadata": {},
   "source": [
    "##### 15-01"
   ]
  },
  {
   "cell_type": "code",
   "execution_count": 62,
   "metadata": {},
   "outputs": [
    {
     "name": "stdout",
     "output_type": "stream",
     "text": [
      "{'cat': 'kitten', 'dog': 'puppy'}\n"
     ]
    }
   ],
   "source": [
    "# Python 3.5\n",
    "baby_names = {\n",
    "    'cat': 'kitten',\n",
    "    'dog': 'puppy',\n",
    "}\n",
    "print(baby_names)\n",
    "# python3.5以前なら {'dog': 'puppy', 'cat': 'kitten'}と表示される"
   ]
  },
  {
   "cell_type": "markdown",
   "metadata": {},
   "source": [
    "##### 15-02"
   ]
  },
  {
   "cell_type": "code",
   "execution_count": 63,
   "metadata": {},
   "outputs": [
    {
     "name": "stdout",
     "output_type": "stream",
     "text": [
      "{'cat': 'kitten', 'dog': 'puppy'}\n"
     ]
    }
   ],
   "source": [
    "baby_names = {\n",
    "    'cat': 'kitten',\n",
    "    'dog': 'puppy',\n",
    "}\n",
    "print(baby_names)"
   ]
  },
  {
   "cell_type": "markdown",
   "metadata": {},
   "source": [
    "##### 15-03\n",
    "Pythonで辞書の要素を削除するclear, pop, popitem, del  \n",
    "https://note.nkmk.me/python-dict-clear-pop-popitem-del/  \n",
    "要素を削除し、キーと値を返す: popitem()メソッド"
   ]
  },
  {
   "cell_type": "code",
   "execution_count": 64,
   "metadata": {},
   "outputs": [
    {
     "name": "stdout",
     "output_type": "stream",
     "text": [
      "['cat', 'dog']\n",
      "['kitten', 'puppy']\n",
      "[('cat', 'kitten'), ('dog', 'puppy')]\n",
      "('dog', 'puppy')\n"
     ]
    }
   ],
   "source": [
    "# Python 3.5\n",
    "baby_names = {\n",
    "    'cat': 'kitten',\n",
    "    'dog': 'puppy',\n",
    "}\n",
    "print(list(baby_names.keys()))\n",
    "print(list(baby_names.values()))\n",
    "print(list(baby_names.items()))\n",
    "print(baby_names.popitem())\n",
    "# .popitem()を使うと、python3.5以前だとランダムで削除される"
   ]
  },
  {
   "cell_type": "markdown",
   "metadata": {},
   "source": [
    "##### 15-04"
   ]
  },
  {
   "cell_type": "code",
   "execution_count": 65,
   "metadata": {},
   "outputs": [
    {
     "name": "stdout",
     "output_type": "stream",
     "text": [
      "['cat']\n",
      "['kitten']\n",
      "[('cat', 'kitten')]\n",
      "('cat', 'kitten')\n"
     ]
    }
   ],
   "source": [
    "print(list(baby_names.keys()))\n",
    "print(list(baby_names.values()))\n",
    "print(list(baby_names.items()))\n",
    "print(baby_names.popitem())  # python3.6以降だと最後に挿入したものが表示される"
   ]
  },
  {
   "cell_type": "markdown",
   "metadata": {},
   "source": [
    "##### 15-05"
   ]
  },
  {
   "cell_type": "code",
   "execution_count": 67,
   "metadata": {},
   "outputs": [
    {
     "name": "stdout",
     "output_type": "stream",
     "text": [
      "goose = gosling\n",
      "kangaroo = joey\n"
     ]
    }
   ],
   "source": [
    "# Python 3.5\n",
    "def my_func(**kwargs):\n",
    "    for key, value in kwargs.items():\n",
    "        print('%s = %s' % (key, value))\n",
    "\n",
    "my_func(goose='gosling', kangaroo='joey')"
   ]
  },
  {
   "cell_type": "markdown",
   "metadata": {},
   "source": [
    "##### 15-06"
   ]
  },
  {
   "cell_type": "code",
   "execution_count": 68,
   "metadata": {},
   "outputs": [
    {
     "name": "stdout",
     "output_type": "stream",
     "text": [
      "goose = gosling\n",
      "kangaroo = joey\n"
     ]
    }
   ],
   "source": [
    "def my_func(**kwargs):\n",
    "    for key, value in kwargs.items():\n",
    "        print(f'{key} = {value}')\n",
    "\n",
    "my_func(goose='gosling', kangaroo='joey')"
   ]
  },
  {
   "cell_type": "markdown",
   "metadata": {},
   "source": [
    "##### 15-07"
   ]
  },
  {
   "cell_type": "code",
   "execution_count": 69,
   "metadata": {},
   "outputs": [
    {
     "name": "stdout",
     "output_type": "stream",
     "text": [
      "alligator = hatchling\n",
      "elephant = calf\n"
     ]
    }
   ],
   "source": [
    "# Python 3.5\n",
    "class MyClass:\n",
    "    def __init__(self):\n",
    "        self.alligator = 'hatchling'\n",
    "        self.elephant = 'calf'\n",
    "\n",
    "a = MyClass()\n",
    "for key, value in a.__dict__.items():\n",
    "    print('%s = %s' % (key, value))"
   ]
  },
  {
   "cell_type": "markdown",
   "metadata": {},
   "source": [
    "##### 15-08"
   ]
  },
  {
   "cell_type": "code",
   "execution_count": 70,
   "metadata": {},
   "outputs": [
    {
     "name": "stdout",
     "output_type": "stream",
     "text": [
      "alligator = hatchling\n",
      "elephant = calf\n"
     ]
    }
   ],
   "source": [
    "class MyClass:\n",
    "    def __init__(self):\n",
    "        self.alligator = 'hatchling'\n",
    "        self.elephant = 'calf'\n",
    "\n",
    "a = MyClass()\n",
    "for key, value in a.__dict__.items():\n",
    "    print(f'{key} = {value}')"
   ]
  },
  {
   "cell_type": "markdown",
   "metadata": {},
   "source": [
    "##### 15-09"
   ]
  },
  {
   "cell_type": "code",
   "execution_count": 71,
   "metadata": {},
   "outputs": [],
   "source": [
    "votes = {\n",
    "    'otter': 1281,\n",
    "    'polar bear': 587,\n",
    "    'fox': 863,\n",
    "}"
   ]
  },
  {
   "cell_type": "markdown",
   "metadata": {},
   "source": [
    "##### 15-10\n",
    "Pythonの辞書のgetメソッドでキーから値を取得（存在しないキーでもOK）  \n",
    "https://note.nkmk.me/python-dict-get/  \n",
    "辞書オブジェクトのget()メソッドを使うと、キーが存在しない場合にエラーを発生させずに任意の値（デフォルト値）を取得できる。"
   ]
  },
  {
   "cell_type": "code",
   "execution_count": 73,
   "metadata": {},
   "outputs": [],
   "source": [
    "def populate_ranks(votes, ranks):\n",
    "    names = list(votes.keys())\n",
    "    names.sort(key=votes.get, reverse=True)\n",
    "    for i, name in enumerate(names, 1):\n",
    "        ranks[name] = i"
   ]
  },
  {
   "cell_type": "markdown",
   "metadata": {},
   "source": [
    "##### 15-11"
   ]
  },
  {
   "cell_type": "code",
   "execution_count": 74,
   "metadata": {},
   "outputs": [],
   "source": [
    "def get_winner(ranks):\n",
    "    return next(iter(ranks))"
   ]
  },
  {
   "cell_type": "markdown",
   "metadata": {},
   "source": [
    "##### 15-12"
   ]
  },
  {
   "cell_type": "code",
   "execution_count": 75,
   "metadata": {},
   "outputs": [
    {
     "name": "stdout",
     "output_type": "stream",
     "text": [
      "{'otter': 1, 'fox': 2, 'polar bear': 3}\n",
      "otter\n"
     ]
    }
   ],
   "source": [
    "ranks = {}\n",
    "populate_ranks(votes, ranks)\n",
    "print(ranks)\n",
    "winner = get_winner(ranks)\n",
    "print(winner)"
   ]
  },
  {
   "cell_type": "markdown",
   "metadata": {},
   "source": [
    "##### 15-13\n",
    "collections.abc --- コレクションの抽象基底クラス  \n",
    "https://docs.python.org/ja/3/library/collections.abc.html  \n",
    "class collections.abc.MutableMapping  \n",
    "読み出し専用の マッピング およびミュータブルな マッピング の ABC です。"
   ]
  },
  {
   "cell_type": "code",
   "execution_count": 76,
   "metadata": {},
   "outputs": [],
   "source": [
    "from collections.abc import MutableMapping\n",
    "\n",
    "class SortedDict(MutableMapping):\n",
    "    def __init__(self):\n",
    "        self.data = {}\n",
    "\n",
    "    def __getitem__(self, key):\n",
    "        return self.data[key]\n",
    "\n",
    "    def __setitem__(self, key, value):\n",
    "        self.data[key] = value\n",
    "\n",
    "    def __delitem__(self, key):\n",
    "        del self.data[key]\n",
    "\n",
    "    def __iter__(self):\n",
    "        keys = list(self.data.keys())\n",
    "        keys.sort()\n",
    "        for key in keys:\n",
    "            yield key\n",
    "\n",
    "    def __len__(self):\n",
    "        return len(self.data)\n",
    "\n",
    "my_dict = SortedDict()\n",
    "my_dict['otter'] = 1\n",
    "my_dict['cheeta'] = 2\n",
    "my_dict['anteater'] = 3\n",
    "my_dict['deer'] = 4\n",
    "\n",
    "assert my_dict['otter'] == 1\n",
    "\n",
    "assert 'cheeta' in my_dict\n",
    "del my_dict['cheeta']\n",
    "assert 'cheeta' not in my_dict\n",
    "\n",
    "expected = [('anteater', 3), ('deer', 4), ('otter', 1)]\n",
    "assert list(my_dict.items()) == expected\n",
    "\n",
    "assert not isinstance(my_dict, dict)"
   ]
  },
  {
   "cell_type": "markdown",
   "metadata": {},
   "source": [
    "##### 15-14"
   ]
  },
  {
   "cell_type": "code",
   "execution_count": 77,
   "metadata": {},
   "outputs": [
    {
     "name": "stdout",
     "output_type": "stream",
     "text": [
      "{'otter': 1, 'fox': 2, 'polar bear': 3}\n",
      "fox\n"
     ]
    }
   ],
   "source": [
    "sorted_ranks = SortedDict()\n",
    "populate_ranks(votes, sorted_ranks)\n",
    "print(sorted_ranks.data)\n",
    "winner = get_winner(sorted_ranks)\n",
    "print(winner)"
   ]
  },
  {
   "cell_type": "markdown",
   "metadata": {},
   "source": [
    "##### 15-15"
   ]
  },
  {
   "cell_type": "code",
   "execution_count": 78,
   "metadata": {},
   "outputs": [
    {
     "name": "stdout",
     "output_type": "stream",
     "text": [
      "otter\n"
     ]
    }
   ],
   "source": [
    "def get_winner(ranks):\n",
    "    for name, rank in ranks.items():\n",
    "        if rank == 1:\n",
    "            return name\n",
    "\n",
    "winner = get_winner(sorted_ranks)\n",
    "print(winner)"
   ]
  },
  {
   "cell_type": "markdown",
   "metadata": {},
   "source": [
    "##### 15-16\n",
    "Pythonで型を取得・判定するtype関数, isinstance関数  \n",
    "https://note.nkmk.me/python-type-isinstance/  \n",
    "isinstance(object, class)は、第一引数のオブジェクトが、第二引数の型のインスタンス、またはサブクラスのインスタンスであればTrueを返す関数。"
   ]
  },
  {
   "cell_type": "code",
   "execution_count": 79,
   "metadata": {},
   "outputs": [
    {
     "name": "stderr",
     "output_type": "stream",
     "text": [
      "ERROR:root:Expected\n",
      "Traceback (most recent call last):\n",
      "  File \"<ipython-input-79-26dced6ba713>\", line 9, in <module>\n",
      "    get_winner(sorted_ranks)\n",
      "  File \"<ipython-input-79-26dced6ba713>\", line 4, in get_winner\n",
      "    raise TypeError('must provide a dict instance')\n",
      "TypeError: must provide a dict instance\n"
     ]
    }
   ],
   "source": [
    "try:\n",
    "    def get_winner(ranks):\n",
    "        if not isinstance(ranks, dict):\n",
    "            raise TypeError('must provide a dict instance')\n",
    "        return next(iter(ranks))\n",
    "    \n",
    "    assert get_winner(ranks) == 'otter'\n",
    "    \n",
    "    get_winner(sorted_ranks)\n",
    "except:\n",
    "    logging.exception('Expected')\n",
    "else:\n",
    "    assert False"
   ]
  },
  {
   "cell_type": "markdown",
   "metadata": {},
   "source": [
    "##### 15-17"
   ]
  },
  {
   "cell_type": "code",
   "execution_count": 81,
   "metadata": {},
   "outputs": [
    {
     "name": "stdout",
     "output_type": "stream",
     "text": [
      "{'otter': 1, 'fox': 2, 'polar bear': 3}\n",
      "fox\n"
     ]
    }
   ],
   "source": [
    "# Check types in this file with: python -m mypy <path>\n",
    "\n",
    "from typing import Dict, MutableMapping\n",
    "\n",
    "def populate_ranks(votes: Dict[str, int],\n",
    "                   ranks: Dict[str, int]) -> None:\n",
    "    names = list(votes.keys())\n",
    "    names.sort(key=votes.get, reverse=True)\n",
    "    for i, name in enumerate(names, 1):\n",
    "        ranks[name] = i\n",
    "\n",
    "def get_winner(ranks: Dict[str, int]) -> str:\n",
    "    return next(iter(ranks))\n",
    "\n",
    "from typing import Iterator, MutableMapping\n",
    "\n",
    "class SortedDict(MutableMapping[str, int]):\n",
    "    def __init__(self) -> None:\n",
    "        self.data: Dict[str, int] = {}\n",
    "\n",
    "    def __getitem__(self, key: str) -> int:\n",
    "        return self.data[key]\n",
    "\n",
    "    def __setitem__(self, key: str, value: int) -> None:\n",
    "        self.data[key] = value\n",
    "\n",
    "    def __delitem__(self, key: str) -> None:\n",
    "        del self.data[key]\n",
    "\n",
    "    def __iter__(self) -> Iterator[str]:\n",
    "        keys = list(self.data.keys())\n",
    "        keys.sort()\n",
    "        for key in keys:\n",
    "            yield key\n",
    "\n",
    "    def __len__(self) -> int:\n",
    "        return len(self.data)\n",
    "\n",
    "votes = {\n",
    "    'otter': 1281,\n",
    "    'polar bear': 587,\n",
    "    'fox': 863,\n",
    "}\n",
    "\n",
    "sorted_ranks = SortedDict()\n",
    "populate_ranks(votes, sorted_ranks)\n",
    "print(sorted_ranks.data)\n",
    "winner = get_winner(sorted_ranks)\n",
    "print(winner)"
   ]
  },
  {
   "cell_type": "markdown",
   "metadata": {},
   "source": [
    "#### 16"
   ]
  },
  {
   "cell_type": "markdown",
   "metadata": {},
   "source": [
    "##### 16-01"
   ]
  },
  {
   "cell_type": "code",
   "execution_count": 2,
   "metadata": {},
   "outputs": [],
   "source": [
    "counters = {\n",
    "    'pumpernickel': 2,\n",
    "    'sourdough': 1,\n",
    "}"
   ]
  },
  {
   "cell_type": "markdown",
   "metadata": {},
   "source": [
    "##### 16-02"
   ]
  },
  {
   "cell_type": "code",
   "execution_count": 3,
   "metadata": {},
   "outputs": [
    {
     "name": "stdout",
     "output_type": "stream",
     "text": [
      "{'pumpernickel': 2, 'sourdough': 1, 'wheat': 1}\n"
     ]
    }
   ],
   "source": [
    "key = 'wheat'\n",
    "\n",
    "if key in counters:\n",
    "    count = counters[key]\n",
    "else:\n",
    "    count = 0\n",
    "\n",
    "counters[key] = count + 1\n",
    "\n",
    "print(counters)"
   ]
  },
  {
   "cell_type": "markdown",
   "metadata": {},
   "source": [
    "##### 16-03"
   ]
  },
  {
   "cell_type": "code",
   "execution_count": 4,
   "metadata": {},
   "outputs": [
    {
     "name": "stdout",
     "output_type": "stream",
     "text": [
      "{'pumpernickel': 2, 'sourdough': 1, 'wheat': 1, 'brioche': 1}\n"
     ]
    }
   ],
   "source": [
    "key = 'brioche'\n",
    "\n",
    "try:\n",
    "    count = counters[key]\n",
    "except KeyError:\n",
    "    count = 0\n",
    "\n",
    "counters[key] = count + 1\n",
    "\n",
    "print(counters)"
   ]
  },
  {
   "cell_type": "markdown",
   "metadata": {},
   "source": [
    "##### 16-04"
   ]
  },
  {
   "cell_type": "code",
   "execution_count": 5,
   "metadata": {},
   "outputs": [
    {
     "name": "stdout",
     "output_type": "stream",
     "text": [
      "{'pumpernickel': 2, 'sourdough': 1, 'wheat': 1, 'brioche': 1, 'multigrain': 1}\n"
     ]
    }
   ],
   "source": [
    "key = 'multigrain'\n",
    "\n",
    "count = counters.get(key, 0)\n",
    "counters[key] = count + 1\n",
    "\n",
    "print(counters)"
   ]
  },
  {
   "cell_type": "markdown",
   "metadata": {},
   "source": [
    "##### 16-05"
   ]
  },
  {
   "cell_type": "code",
   "execution_count": 6,
   "metadata": {},
   "outputs": [
    {
     "name": "stdout",
     "output_type": "stream",
     "text": [
      "{'pumpernickel': 2, 'sourdough': 1, 'wheat': 1, 'brioche': 1, 'multigrain': 1, 'baguette': 1, 'ciabatta': 2}\n"
     ]
    }
   ],
   "source": [
    "key = 'baguette'\n",
    "\n",
    "if key not in counters:\n",
    "    counters[key] = 0\n",
    "counters[key] += 1\n",
    "\n",
    "key = 'ciabatta'\n",
    "\n",
    "if key in counters:\n",
    "    counters[key] += 1\n",
    "else:\n",
    "    counters[key] = 1\n",
    "\n",
    "key = 'ciabatta'\n",
    "\n",
    "try:\n",
    "    counters[key] += 1\n",
    "except KeyError:\n",
    "    counters[key] = 1\n",
    "\n",
    "print(counters)"
   ]
  },
  {
   "cell_type": "markdown",
   "metadata": {},
   "source": [
    "##### 16-06"
   ]
  },
  {
   "cell_type": "code",
   "execution_count": 7,
   "metadata": {},
   "outputs": [
    {
     "name": "stdout",
     "output_type": "stream",
     "text": [
      "{'baguette': ['Bob', 'Alice'], 'ciabatta': ['Coco', 'Deb'], 'brioche': ['Elmer']}\n"
     ]
    }
   ],
   "source": [
    "votes = {\n",
    "    'baguette': ['Bob', 'Alice'],\n",
    "    'ciabatta': ['Coco', 'Deb'],\n",
    "}\n",
    "\n",
    "key = 'brioche'\n",
    "who = 'Elmer'\n",
    "\n",
    "if key in votes:\n",
    "    names = votes[key]\n",
    "else:\n",
    "    votes[key] = names = []\n",
    "\n",
    "names.append(who)\n",
    "print(votes)"
   ]
  },
  {
   "cell_type": "markdown",
   "metadata": {},
   "source": [
    "##### 16-07"
   ]
  },
  {
   "cell_type": "code",
   "execution_count": 8,
   "metadata": {},
   "outputs": [
    {
     "name": "stdout",
     "output_type": "stream",
     "text": [
      "{'baguette': ['Bob', 'Alice'], 'ciabatta': ['Coco', 'Deb'], 'brioche': ['Elmer'], 'rye': ['Felix']}\n"
     ]
    }
   ],
   "source": [
    "key = 'rye'\n",
    "who = 'Felix'\n",
    "\n",
    "try:\n",
    "    names = votes[key]\n",
    "except KeyError:\n",
    "    votes[key] = names = []\n",
    "\n",
    "names.append(who)\n",
    "\n",
    "print(votes)"
   ]
  },
  {
   "cell_type": "markdown",
   "metadata": {},
   "source": [
    "##### 16-08"
   ]
  },
  {
   "cell_type": "code",
   "execution_count": 9,
   "metadata": {},
   "outputs": [
    {
     "name": "stdout",
     "output_type": "stream",
     "text": [
      "{'baguette': ['Bob', 'Alice'], 'ciabatta': ['Coco', 'Deb'], 'brioche': ['Elmer'], 'rye': ['Felix'], 'wheat': ['Gertrude']}\n"
     ]
    }
   ],
   "source": [
    "key = 'wheat'\n",
    "who = 'Gertrude'\n",
    "\n",
    "names = votes.get(key)\n",
    "if names is None:\n",
    "    votes[key] = names = []\n",
    "\n",
    "names.append(who)\n",
    "\n",
    "print(votes)"
   ]
  },
  {
   "cell_type": "markdown",
   "metadata": {},
   "source": [
    "##### 16-09"
   ]
  },
  {
   "cell_type": "code",
   "execution_count": 10,
   "metadata": {},
   "outputs": [
    {
     "name": "stdout",
     "output_type": "stream",
     "text": [
      "{'baguette': ['Bob', 'Alice'], 'ciabatta': ['Coco', 'Deb'], 'brioche': ['Elmer', 'Hugh'], 'rye': ['Felix'], 'wheat': ['Gertrude']}\n"
     ]
    }
   ],
   "source": [
    "key = 'brioche'\n",
    "who = 'Hugh'\n",
    "\n",
    "if (names := votes.get(key)) is None:\n",
    "    votes[key] = names = []\n",
    "\n",
    "names.append(who)\n",
    "\n",
    "print(votes)"
   ]
  },
  {
   "cell_type": "markdown",
   "metadata": {},
   "source": [
    "##### 16-10\n",
    "Pythonで辞書にキーが存在しないときのみ要素を追加するsetdefault  \n",
    "https://note.nkmk.me/python-dict-setdefault/  \n",
    "setdefault()メソッドを使うことで、既存のキーに対しては値を変更せず、新規のキーに対してのみ新たな値で要素を追加できる。"
   ]
  },
  {
   "cell_type": "code",
   "execution_count": 11,
   "metadata": {},
   "outputs": [
    {
     "name": "stdout",
     "output_type": "stream",
     "text": [
      "{'baguette': ['Bob', 'Alice'], 'ciabatta': ['Coco', 'Deb'], 'brioche': ['Elmer', 'Hugh'], 'rye': ['Felix'], 'wheat': ['Gertrude'], 'cornbread': ['Kirk']}\n"
     ]
    }
   ],
   "source": [
    "key = 'cornbread'\n",
    "who = 'Kirk'\n",
    "\n",
    "names = votes.setdefault(key, [])\n",
    "names.append(who)\n",
    "\n",
    "print(votes)"
   ]
  },
  {
   "cell_type": "markdown",
   "metadata": {},
   "source": [
    "##### 16-11"
   ]
  },
  {
   "cell_type": "code",
   "execution_count": 12,
   "metadata": {},
   "outputs": [
    {
     "name": "stdout",
     "output_type": "stream",
     "text": [
      "Before: {'foo': []}\n",
      "After:  {'foo': ['hello']}\n"
     ]
    }
   ],
   "source": [
    "data = {}\n",
    "key = 'foo'\n",
    "value = []\n",
    "data.setdefault(key, value)\n",
    "print('Before:', data)\n",
    "value.append('hello')\n",
    "print('After: ', data)"
   ]
  },
  {
   "cell_type": "markdown",
   "metadata": {},
   "source": [
    "##### 16-12"
   ]
  },
  {
   "cell_type": "code",
   "execution_count": 13,
   "metadata": {},
   "outputs": [
    {
     "name": "stdout",
     "output_type": "stream",
     "text": [
      "{'pumpernickel': 2, 'sourdough': 1, 'wheat': 1, 'brioche': 1, 'multigrain': 1, 'baguette': 1, 'ciabatta': 2, 'dutch crunch': 1}\n"
     ]
    }
   ],
   "source": [
    "key = 'dutch crunch'\n",
    "\n",
    "count = counters.setdefault(key, 0)\n",
    "counters[key] = count + 1\n",
    "\n",
    "print(counters)"
   ]
  },
  {
   "cell_type": "markdown",
   "metadata": {},
   "source": [
    "#### 17"
   ]
  },
  {
   "cell_type": "markdown",
   "metadata": {},
   "source": [
    "##### 17-01"
   ]
  },
  {
   "cell_type": "code",
   "execution_count": 14,
   "metadata": {},
   "outputs": [],
   "source": [
    "visits = {\n",
    "    'Mexico': {'Tulum', 'Puerto Vallarta'},\n",
    "    'Japan': {'Hakone'},\n",
    "}"
   ]
  },
  {
   "cell_type": "markdown",
   "metadata": {},
   "source": [
    "##### 17-02"
   ]
  },
  {
   "cell_type": "code",
   "execution_count": 15,
   "metadata": {},
   "outputs": [
    {
     "ename": "NameError",
     "evalue": "name 'pprint' is not defined",
     "output_type": "error",
     "traceback": [
      "\u001b[1;31m---------------------------------------------------------------------------\u001b[0m",
      "\u001b[1;31mNameError\u001b[0m                                 Traceback (most recent call last)",
      "\u001b[1;32m<ipython-input-15-30e288b66401>\u001b[0m in \u001b[0;36m<module>\u001b[1;34m\u001b[0m\n\u001b[0;32m      5\u001b[0m \u001b[0mjapan\u001b[0m\u001b[1;33m.\u001b[0m\u001b[0madd\u001b[0m\u001b[1;33m(\u001b[0m\u001b[1;34m'Kyoto'\u001b[0m\u001b[1;33m)\u001b[0m\u001b[1;33m\u001b[0m\u001b[1;33m\u001b[0m\u001b[0m\n\u001b[0;32m      6\u001b[0m \u001b[0moriginal_print\u001b[0m \u001b[1;33m=\u001b[0m \u001b[0mprint\u001b[0m\u001b[1;33m\u001b[0m\u001b[1;33m\u001b[0m\u001b[0m\n\u001b[1;32m----> 7\u001b[1;33m \u001b[0mprint\u001b[0m \u001b[1;33m=\u001b[0m \u001b[0mpprint\u001b[0m\u001b[1;33m\u001b[0m\u001b[1;33m\u001b[0m\u001b[0m\n\u001b[0m\u001b[0;32m      8\u001b[0m \u001b[1;33m\u001b[0m\u001b[0m\n\u001b[0;32m      9\u001b[0m \u001b[0mprint\u001b[0m\u001b[1;33m(\u001b[0m\u001b[0mvisits\u001b[0m\u001b[1;33m)\u001b[0m\u001b[1;33m\u001b[0m\u001b[1;33m\u001b[0m\u001b[0m\n",
      "\u001b[1;31mNameError\u001b[0m: name 'pprint' is not defined"
     ]
    }
   ],
   "source": [
    "visits.setdefault('France', set()).add('Arles')  # Short\n",
    "\n",
    "if (japan := visits.get('Japan')) is None:       # Long\n",
    "    visits['Japan'] = japan = set()\n",
    "japan.add('Kyoto')\n",
    "original_print = print\n",
    "print = pprint\n",
    "\n",
    "print(visits)\n",
    "print = original_print"
   ]
  },
  {
   "cell_type": "markdown",
   "metadata": {},
   "source": [
    "##### 17-03"
   ]
  },
  {
   "cell_type": "code",
   "execution_count": 16,
   "metadata": {},
   "outputs": [],
   "source": [
    "class Visits:\n",
    "    def __init__(self):\n",
    "        self.data = {}\n",
    "\n",
    "    def add(self, country, city):\n",
    "        city_set = self.data.setdefault(country, set())\n",
    "        city_set.add(city)"
   ]
  },
  {
   "cell_type": "markdown",
   "metadata": {},
   "source": [
    "##### 17-04"
   ]
  },
  {
   "cell_type": "code",
   "execution_count": 17,
   "metadata": {},
   "outputs": [
    {
     "name": "stdout",
     "output_type": "stream",
     "text": [
      "{'Russia': {'Yekaterinburg'}, 'Tanzania': {'Zanzibar'}}\n"
     ]
    }
   ],
   "source": [
    "visits = Visits()\n",
    "visits.add('Russia', 'Yekaterinburg')\n",
    "visits.add('Tanzania', 'Zanzibar')\n",
    "print(visits.data)"
   ]
  },
  {
   "cell_type": "markdown",
   "metadata": {},
   "source": [
    "##### 17-05\n",
    "defaultdict()についてわかりやすくまとめて見た  \n",
    "http://kyam-013.hatenablog.jp/entry/2017/07/21/021106  \n",
    "デフォルトのvalue値にリストオブジェクト（型）が入ったdict型の変数dになる  \n",
    "defaultdict()は変数としてはdict型ではあるが、デフォルトのvalue値のオブジェクトが指定されたオブジェクトになる  "
   ]
  },
  {
   "cell_type": "code",
   "execution_count": 19,
   "metadata": {},
   "outputs": [
    {
     "name": "stdout",
     "output_type": "stream",
     "text": [
      "defaultdict(<class 'set'>, {'England': {'Bath', 'London'}})\n"
     ]
    }
   ],
   "source": [
    "from collections import defaultdict\n",
    "\n",
    "class Visits:\n",
    "    def __init__(self):\n",
    "        self.data = defaultdict(set)\n",
    "\n",
    "    def add(self, country, city):\n",
    "        self.data[country].add(city)\n",
    "\n",
    "visits = Visits()\n",
    "visits.add('England', 'Bath')\n",
    "visits.add('England', 'London')\n",
    "print(visits.data)"
   ]
  },
  {
   "cell_type": "markdown",
   "metadata": {},
   "source": [
    "#### 18"
   ]
  },
  {
   "cell_type": "markdown",
   "metadata": {},
   "source": [
    "##### 18-01\n",
    "Python: テキストファイルの読み込み – read()、readlines()、readline()メソッド  \n",
    "https://yukun.info/python-file/  \n",
    "read() – ファイルを全て読み込み、その文字列データに対して処理を行う  \n",
    "\n",
    "seek関数 - ファイルの途中から読み込み（書き込み）をする  \n",
    "http://www.ksknet.net/cat41/seek.html  \n",
    "seek関数はファイルポインタをセットするための関数です。主にファイルの途中から読み込みや書き込みを行う際に使用されます。"
   ]
  },
  {
   "cell_type": "code",
   "execution_count": 21,
   "metadata": {},
   "outputs": [
    {
     "name": "stdout",
     "output_type": "stream",
     "text": [
      "{'profile_1234.png': <_io.BufferedRandom name='profile_1234.png'>}\n",
      "b'image data here 1234'\n"
     ]
    }
   ],
   "source": [
    "pictures = {}\n",
    "path = 'profile_1234.png'\n",
    "\n",
    "with open(path, 'wb') as f:\n",
    "    f.write(b'image data here 1234')\n",
    "\n",
    "if (handle := pictures.get(path)) is None:\n",
    "    try:\n",
    "        handle = open(path, 'a+b')\n",
    "    except OSError:\n",
    "        print(f'Failed to open path {path}')\n",
    "        raise\n",
    "    else:\n",
    "        pictures[path] = handle\n",
    "\n",
    "handle.seek(0)\n",
    "image_data = handle.read()\n",
    "\n",
    "print(pictures)\n",
    "print(image_data)"
   ]
  },
  {
   "cell_type": "markdown",
   "metadata": {},
   "source": [
    "##### 18-02"
   ]
  },
  {
   "cell_type": "code",
   "execution_count": 22,
   "metadata": {},
   "outputs": [
    {
     "name": "stdout",
     "output_type": "stream",
     "text": [
      "{'profile_9991.png': <_io.BufferedRandom name='profile_9991.png'>}\n",
      "b'image data here 9991'\n",
      "{'profile_9922.png': <_io.BufferedRandom name='profile_9922.png'>}\n",
      "b'image data here 9991'\n"
     ]
    }
   ],
   "source": [
    "# Examples using in and KeyError\n",
    "pictures = {}\n",
    "path = 'profile_9991.png'\n",
    "\n",
    "with open(path, 'wb') as f:\n",
    "    f.write(b'image data here 9991')\n",
    "\n",
    "if path in pictures:\n",
    "    handle = pictures[path]\n",
    "else:\n",
    "    try:\n",
    "        handle = open(path, 'a+b')\n",
    "    except OSError:\n",
    "        print(f'Failed to open path {path}')\n",
    "        raise\n",
    "    else:\n",
    "        pictures[path] = handle\n",
    "\n",
    "handle.seek(0)\n",
    "image_data = handle.read()\n",
    "\n",
    "print(pictures)\n",
    "print(image_data)\n",
    "\n",
    "pictures = {}\n",
    "path = 'profile_9922.png'\n",
    "\n",
    "with open(path, 'wb') as f:\n",
    "    f.write(b'image data here 9991')\n",
    "\n",
    "try:\n",
    "    handle = pictures[path]\n",
    "except KeyError:\n",
    "    try:\n",
    "        handle = open(path, 'a+b')\n",
    "    except OSError:\n",
    "        print(f'Failed to open path {path}')\n",
    "        raise\n",
    "    else:\n",
    "        pictures[path] = handle\n",
    "\n",
    "handle.seek(0)\n",
    "image_data = handle.read()\n",
    "\n",
    "print(pictures)\n",
    "print(image_data)"
   ]
  },
  {
   "cell_type": "markdown",
   "metadata": {},
   "source": [
    "##### 18-03"
   ]
  },
  {
   "cell_type": "code",
   "execution_count": 23,
   "metadata": {},
   "outputs": [
    {
     "name": "stdout",
     "output_type": "stream",
     "text": [
      "{'profile_9239.png': <_io.BufferedRandom name='profile_9239.png'>}\n",
      "b'image data here 9239'\n"
     ]
    }
   ],
   "source": [
    "pictures = {}\n",
    "path = 'profile_9239.png'\n",
    "\n",
    "with open(path, 'wb') as f:\n",
    "    f.write(b'image data here 9239')\n",
    "\n",
    "try:\n",
    "    handle = pictures.setdefault(path, open(path, 'a+b'))\n",
    "except OSError:\n",
    "    print(f'Failed to open path {path}')\n",
    "    raise\n",
    "else:\n",
    "    handle.seek(0)\n",
    "    image_data = handle.read()\n",
    "\n",
    "print(pictures)\n",
    "print(image_data)"
   ]
  },
  {
   "cell_type": "markdown",
   "metadata": {},
   "source": [
    "##### 18-04"
   ]
  },
  {
   "cell_type": "code",
   "execution_count": 24,
   "metadata": {},
   "outputs": [
    {
     "ename": "NameError",
     "evalue": "name 'logging' is not defined",
     "output_type": "error",
     "traceback": [
      "\u001b[1;31m---------------------------------------------------------------------------\u001b[0m",
      "\u001b[1;31mTypeError\u001b[0m                                 Traceback (most recent call last)",
      "\u001b[1;32m<ipython-input-24-df5bcf1f1382>\u001b[0m in \u001b[0;36m<module>\u001b[1;34m\u001b[0m\n\u001b[0;32m     16\u001b[0m     \u001b[0mpictures\u001b[0m \u001b[1;33m=\u001b[0m \u001b[0mdefaultdict\u001b[0m\u001b[1;33m(\u001b[0m\u001b[0mopen_picture\u001b[0m\u001b[1;33m)\u001b[0m\u001b[1;33m\u001b[0m\u001b[1;33m\u001b[0m\u001b[0m\n\u001b[1;32m---> 17\u001b[1;33m     \u001b[0mhandle\u001b[0m \u001b[1;33m=\u001b[0m \u001b[0mpictures\u001b[0m\u001b[1;33m[\u001b[0m\u001b[0mpath\u001b[0m\u001b[1;33m]\u001b[0m\u001b[1;33m\u001b[0m\u001b[1;33m\u001b[0m\u001b[0m\n\u001b[0m\u001b[0;32m     18\u001b[0m     \u001b[0mhandle\u001b[0m\u001b[1;33m.\u001b[0m\u001b[0mseek\u001b[0m\u001b[1;33m(\u001b[0m\u001b[1;36m0\u001b[0m\u001b[1;33m)\u001b[0m\u001b[1;33m\u001b[0m\u001b[1;33m\u001b[0m\u001b[0m\n",
      "\u001b[1;31mTypeError\u001b[0m: open_picture() missing 1 required positional argument: 'profile_path'",
      "\nDuring handling of the above exception, another exception occurred:\n",
      "\u001b[1;31mNameError\u001b[0m                                 Traceback (most recent call last)",
      "\u001b[1;32m<ipython-input-24-df5bcf1f1382>\u001b[0m in \u001b[0;36m<module>\u001b[1;34m\u001b[0m\n\u001b[0;32m     19\u001b[0m     \u001b[0mimage_data\u001b[0m \u001b[1;33m=\u001b[0m \u001b[0mhandle\u001b[0m\u001b[1;33m.\u001b[0m\u001b[0mread\u001b[0m\u001b[1;33m(\u001b[0m\u001b[1;33m)\u001b[0m\u001b[1;33m\u001b[0m\u001b[1;33m\u001b[0m\u001b[0m\n\u001b[0;32m     20\u001b[0m \u001b[1;32mexcept\u001b[0m\u001b[1;33m:\u001b[0m\u001b[1;33m\u001b[0m\u001b[1;33m\u001b[0m\u001b[0m\n\u001b[1;32m---> 21\u001b[1;33m     \u001b[0mlogging\u001b[0m\u001b[1;33m.\u001b[0m\u001b[0mexception\u001b[0m\u001b[1;33m(\u001b[0m\u001b[1;34m'Expected'\u001b[0m\u001b[1;33m)\u001b[0m\u001b[1;33m\u001b[0m\u001b[1;33m\u001b[0m\u001b[0m\n\u001b[0m\u001b[0;32m     22\u001b[0m \u001b[1;32melse\u001b[0m\u001b[1;33m:\u001b[0m\u001b[1;33m\u001b[0m\u001b[1;33m\u001b[0m\u001b[0m\n\u001b[0;32m     23\u001b[0m     \u001b[1;32massert\u001b[0m \u001b[1;32mFalse\u001b[0m\u001b[1;33m\u001b[0m\u001b[1;33m\u001b[0m\u001b[0m\n",
      "\u001b[1;31mNameError\u001b[0m: name 'logging' is not defined"
     ]
    }
   ],
   "source": [
    "try:\n",
    "    path = 'profile_4555.csv'\n",
    "    \n",
    "    with open(path, 'wb') as f:\n",
    "        f.write(b'image data here 9239')\n",
    "    \n",
    "    from collections import defaultdict\n",
    "    \n",
    "    def open_picture(profile_path):\n",
    "        try:\n",
    "            return open(profile_path, 'a+b')\n",
    "        except OSError:\n",
    "            print(f'Failed to open path {profile_path}')\n",
    "            raise\n",
    "    \n",
    "    pictures = defaultdict(open_picture)\n",
    "    handle = pictures[path]\n",
    "    handle.seek(0)\n",
    "    image_data = handle.read()\n",
    "except:\n",
    "    logging.exception('Expected')\n",
    "else:\n",
    "    assert False"
   ]
  },
  {
   "cell_type": "markdown",
   "metadata": {},
   "source": [
    "##### 18-05"
   ]
  },
  {
   "cell_type": "code",
   "execution_count": 25,
   "metadata": {},
   "outputs": [
    {
     "name": "stdout",
     "output_type": "stream",
     "text": [
      "{'account_9090.csv': <_io.BufferedRandom name='account_9090.csv'>}\n",
      "b'image data here 9090'\n"
     ]
    }
   ],
   "source": [
    "path = 'account_9090.csv'\n",
    "\n",
    "with open(path, 'wb') as f:\n",
    "    f.write(b'image data here 9090')\n",
    "\n",
    "def open_picture(profile_path):\n",
    "    try:\n",
    "        return open(profile_path, 'a+b')\n",
    "    except OSError:\n",
    "        print(f'Failed to open path {profile_path}')\n",
    "        raise\n",
    "\n",
    "class Pictures(dict):\n",
    "    def __missing__(self, key):\n",
    "        value = open_picture(key)\n",
    "        self[key] = value\n",
    "        return value\n",
    "\n",
    "pictures = Pictures()\n",
    "handle = pictures[path]\n",
    "handle.seek(0)\n",
    "image_data = handle.read()\n",
    "print(pictures)\n",
    "print(image_data)"
   ]
  },
  {
   "cell_type": "code",
   "execution_count": null,
   "metadata": {},
   "outputs": [],
   "source": []
  }
 ],
 "metadata": {
  "kernelspec": {
   "display_name": "Python 3",
   "language": "python",
   "name": "python3"
  },
  "language_info": {
   "codemirror_mode": {
    "name": "ipython",
    "version": 3
   },
   "file_extension": ".py",
   "mimetype": "text/x-python",
   "name": "python",
   "nbconvert_exporter": "python",
   "pygments_lexer": "ipython3",
   "version": "3.7.7"
  }
 },
 "nbformat": 4,
 "nbformat_minor": 4
}
