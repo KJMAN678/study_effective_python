{
 "cells": [
  {
   "cell_type": "markdown",
   "metadata": {},
   "source": [
    "### 2章 項目13 アンパック"
   ]
  },
  {
   "cell_type": "code",
   "execution_count": 12,
   "metadata": {},
   "outputs": [],
   "source": [
    "# 経過年数を表すリスト\n",
    "age_list = [0, 9, 4, 8, 7, 20, 19, 1, 6, 15]"
   ]
  },
  {
   "cell_type": "code",
   "execution_count": 13,
   "metadata": {},
   "outputs": [
    {
     "data": {
      "text/plain": [
       "[20, 19, 15, 9, 8, 7, 6, 4, 1, 0]"
      ]
     },
     "execution_count": 13,
     "metadata": {},
     "output_type": "execute_result"
    }
   ],
   "source": [
    "# 並び替え\n",
    "sorted_list = sorted(age_list, reverse=True)\n",
    "sorted_list"
   ]
  },
  {
   "cell_type": "code",
   "execution_count": 14,
   "metadata": {},
   "outputs": [
    {
     "ename": "ValueError",
     "evalue": "too many values to unpack (expected 2)",
     "output_type": "error",
     "traceback": [
      "\u001b[1;31m---------------------------------------------------------------------------\u001b[0m",
      "\u001b[1;31mValueError\u001b[0m                                Traceback (most recent call last)",
      "\u001b[1;32m<ipython-input-14-6f07495bfa6c>\u001b[0m in \u001b[0;36m<module>\u001b[1;34m\u001b[0m\n\u001b[0;32m      1\u001b[0m \u001b[1;31m# 1番目、2番目に大きいものを抽出\u001b[0m\u001b[1;33m\u001b[0m\u001b[1;33m\u001b[0m\u001b[1;33m\u001b[0m\u001b[0m\n\u001b[0;32m      2\u001b[0m \u001b[1;31m# エラーになる\u001b[0m\u001b[1;33m\u001b[0m\u001b[1;33m\u001b[0m\u001b[1;33m\u001b[0m\u001b[0m\n\u001b[1;32m----> 3\u001b[1;33m \u001b[0mbigest\u001b[0m\u001b[1;33m,\u001b[0m \u001b[0msecond_bigest\u001b[0m \u001b[1;33m=\u001b[0m \u001b[0msorted_list\u001b[0m\u001b[1;33m\u001b[0m\u001b[1;33m\u001b[0m\u001b[0m\n\u001b[0m",
      "\u001b[1;31mValueError\u001b[0m: too many values to unpack (expected 2)"
     ]
    }
   ],
   "source": [
    "# 1番目、2番目に大きいものを抽出\n",
    "# エラーになる\n",
    "bigest, second_bigest = sorted_list"
   ]
  },
  {
   "cell_type": "code",
   "execution_count": 17,
   "metadata": {},
   "outputs": [
    {
     "name": "stdout",
     "output_type": "stream",
     "text": [
      "bigest: 20, second_bigest: 19\n"
     ]
    }
   ],
   "source": [
    "# スライスで抽出\n",
    "bigest = sorted_list[0]\n",
    "second_bigest = sorted_list[1]\n",
    "print(f\"bigest: {bigest}, second_bigest: {second_bigest}\")"
   ]
  },
  {
   "cell_type": "code",
   "execution_count": 8,
   "metadata": {},
   "outputs": [],
   "source": [
    "# catch-allアンパック (*othersのこと)を使う\n",
    "bigest, second_bigest, *others = sorted_list"
   ]
  },
  {
   "cell_type": "code",
   "execution_count": 18,
   "metadata": {},
   "outputs": [
    {
     "name": "stdout",
     "output_type": "stream",
     "text": [
      "bigest: 20, second_bigest: 19, others: [15, 9, 8, 7, 6, 4, 1, 0]\n"
     ]
    }
   ],
   "source": [
    "print(f\"bigest: {bigest}, second_bigest: {second_bigest}, others: {others}\")"
   ]
  },
  {
   "cell_type": "code",
   "execution_count": 104,
   "metadata": {},
   "outputs": [
    {
     "ename": "SyntaxError",
     "evalue": "starred assignment target must be in a list or tuple (<ipython-input-104-83e6b9fe5a33>, line 5)",
     "output_type": "error",
     "traceback": [
      "\u001b[1;36m  File \u001b[1;32m\"<ipython-input-104-83e6b9fe5a33>\"\u001b[1;36m, line \u001b[1;32m5\u001b[0m\n\u001b[1;31mSyntaxError\u001b[0m\u001b[1;31m:\u001b[0m starred assignment target must be in a list or tuple\n"
     ]
    }
   ],
   "source": [
    "# 全てをcatch-allアンパックで受け取ろうとするとエラーになる\n",
    "*others = sorted_list"
   ]
  },
  {
   "cell_type": "code",
   "execution_count": 21,
   "metadata": {},
   "outputs": [],
   "source": [
    "# 辞書型の場合\n",
    "info = {\n",
    "    'age':(20, 19, 15, 9, 8, 7, 6, 4, 1, 0),\n",
    "    'type':(\"a\", \"b\", \"c\", \"d\", \"e\", \"f\", \"g\", \"h\", \"i\", \"j\")\n",
    "}"
   ]
  },
  {
   "cell_type": "code",
   "execution_count": 108,
   "metadata": {},
   "outputs": [],
   "source": [
    "# 辞書型のアンパック\n",
    "((key1, (value1, *value_others1)),\n",
    " (key2, (value2, *value_others2))) = info.items()"
   ]
  },
  {
   "cell_type": "code",
   "execution_count": 110,
   "metadata": {},
   "outputs": [
    {
     "name": "stdout",
     "output_type": "stream",
     "text": [
      "key age: values 20, values_others [19, 15, 9, 8, 7, 6, 4, 1, 0]\n",
      "key type: values a, values_others ['b', 'c', 'd', 'e', 'f', 'g', 'h', 'i', 'j']\n"
     ]
    }
   ],
   "source": [
    "print(f\"key {key1}: values {value1}, values_others {value_others1}\")\n",
    "print(f\"key {key2}: values {value2}, values_others {value_others2}\")"
   ]
  },
  {
   "cell_type": "code",
   "execution_count": 48,
   "metadata": {},
   "outputs": [],
   "source": [
    "# イテレータの場合\n",
    "def generate():\n",
    "    yield (\"a\", \"b\", \"c\")\n",
    "    yield (\"d\", \"e\", \"f\")\n",
    "    yield (\"g\", \"h\", \"i\")\n",
    "    yield (\"j\", \"k\", \"l\")"
   ]
  },
  {
   "cell_type": "code",
   "execution_count": 49,
   "metadata": {},
   "outputs": [],
   "source": [
    "it = generate()"
   ]
  },
  {
   "cell_type": "code",
   "execution_count": 50,
   "metadata": {},
   "outputs": [
    {
     "name": "stdout",
     "output_type": "stream",
     "text": [
      "first: ('a', 'b', 'c'), others: [('d', 'e', 'f'), ('g', 'h', 'i'), ('j', 'k', 'l')]\n"
     ]
    }
   ],
   "source": [
    "# イテレータのアンパック\n",
    "first, *others = it\n",
    "print(f\"first: {first}, others: {others}\")"
   ]
  },
  {
   "cell_type": "code",
   "execution_count": 51,
   "metadata": {},
   "outputs": [],
   "source": [
    "# スライスを使う場合\n",
    "it_list = list(generate())"
   ]
  },
  {
   "cell_type": "code",
   "execution_count": 53,
   "metadata": {},
   "outputs": [
    {
     "name": "stdout",
     "output_type": "stream",
     "text": [
      "first: ('a', 'b', 'c'), others: [('d', 'e', 'f'), ('g', 'h', 'i'), ('j', 'k', 'l')]\n"
     ]
    }
   ],
   "source": [
    "print(f\"first: {it_list[0]}, others: {it_list[1:]}\")"
   ]
  },
  {
   "cell_type": "markdown",
   "metadata": {},
   "source": [
    "### 3章 項目22 可変長位置引数、スター引数"
   ]
  },
  {
   "cell_type": "code",
   "execution_count": 111,
   "metadata": {},
   "outputs": [],
   "source": [
    "# 1つしか要素のないリストを用意する\n",
    "num_list2 = [5]"
   ]
  },
  {
   "cell_type": "code",
   "execution_count": 58,
   "metadata": {},
   "outputs": [
    {
     "name": "stdout",
     "output_type": "stream",
     "text": [
      "first: 5, others: []\n"
     ]
    }
   ],
   "source": [
    "# othersに代入するリストはないので、自動的に空っぽのリストが入る\n",
    "first, *others = num_list2\n",
    "print(f\"first: {first}, others: {others}\")"
   ]
  },
  {
   "cell_type": "code",
   "execution_count": 59,
   "metadata": {},
   "outputs": [],
   "source": [
    "# スライスを使う場合は、空のリストを指定する必要が生じる\n",
    "first, others = num_list[0], []"
   ]
  },
  {
   "cell_type": "code",
   "execution_count": 112,
   "metadata": {},
   "outputs": [
    {
     "ename": "TypeError",
     "evalue": "cannot unpack non-iterable int object",
     "output_type": "error",
     "traceback": [
      "\u001b[1;31m---------------------------------------------------------------------------\u001b[0m",
      "\u001b[1;31mTypeError\u001b[0m                                 Traceback (most recent call last)",
      "\u001b[1;32m<ipython-input-112-99477d836b96>\u001b[0m in \u001b[0;36m<module>\u001b[1;34m\u001b[0m\n\u001b[1;32m----> 1\u001b[1;33m \u001b[0mfirst\u001b[0m\u001b[1;33m,\u001b[0m \u001b[0mothers\u001b[0m \u001b[1;33m=\u001b[0m \u001b[0mnum_list\u001b[0m\u001b[1;33m[\u001b[0m\u001b[1;36m0\u001b[0m\u001b[1;33m]\u001b[0m\u001b[1;33m\u001b[0m\u001b[1;33m\u001b[0m\u001b[0m\n\u001b[0m",
      "\u001b[1;31mTypeError\u001b[0m: cannot unpack non-iterable int object"
     ]
    }
   ],
   "source": [
    "# 空のリストを指定しないとエラーが生じる\n",
    "first, others = num_list[0]"
   ]
  },
  {
   "cell_type": "code",
   "execution_count": 62,
   "metadata": {},
   "outputs": [],
   "source": [
    "def log(message, value):\n",
    "    # values が空っぽの場合はメッセージのみを返す\n",
    "    if not value:\n",
    "        print(message)\n",
    "    else:\n",
    "        print(message, value)"
   ]
  },
  {
   "cell_type": "code",
   "execution_count": 63,
   "metadata": {},
   "outputs": [
    {
     "name": "stdout",
     "output_type": "stream",
     "text": [
      "Number is [1, 2]\n"
     ]
    }
   ],
   "source": [
    "# 引数であるvalue に値を代入する場合\n",
    "log('Number is', [1, 2])"
   ]
  },
  {
   "cell_type": "code",
   "execution_count": 64,
   "metadata": {},
   "outputs": [
    {
     "ename": "TypeError",
     "evalue": "log() missing 1 required positional argument: 'value'",
     "output_type": "error",
     "traceback": [
      "\u001b[1;31m---------------------------------------------------------------------------\u001b[0m",
      "\u001b[1;31mTypeError\u001b[0m                                 Traceback (most recent call last)",
      "\u001b[1;32m<ipython-input-64-3e547894f1e6>\u001b[0m in \u001b[0;36m<module>\u001b[1;34m\u001b[0m\n\u001b[1;32m----> 1\u001b[1;33m \u001b[0mlog\u001b[0m\u001b[1;33m(\u001b[0m\u001b[1;34m'Number is Nothing'\u001b[0m\u001b[1;33m)\u001b[0m\u001b[1;33m\u001b[0m\u001b[1;33m\u001b[0m\u001b[0m\n\u001b[0m",
      "\u001b[1;31mTypeError\u001b[0m: log() missing 1 required positional argument: 'value'"
     ]
    }
   ],
   "source": [
    "# 引数であるvalue に値を代入しない場合、エラーが生じる\n",
    "log('Number is Nothing')"
   ]
  },
  {
   "cell_type": "code",
   "execution_count": 65,
   "metadata": {},
   "outputs": [
    {
     "name": "stdout",
     "output_type": "stream",
     "text": [
      "Number is Nothing\n"
     ]
    }
   ],
   "source": [
    "# 引数である value に値を代入しない場合は valueに空のリストを指定する必要がある\n",
    "log('Number is Nothing', [])"
   ]
  },
  {
   "cell_type": "code",
   "execution_count": 66,
   "metadata": {},
   "outputs": [],
   "source": [
    "# 引数にスター(*) を付けてアンパックを使う\n",
    "def log(message, *value):\n",
    "    # values が空っぽの場合はメッセージのみを返す\n",
    "    if not value:\n",
    "        print(message)\n",
    "    else:\n",
    "        print(message, value)"
   ]
  },
  {
   "cell_type": "code",
   "execution_count": 67,
   "metadata": {},
   "outputs": [
    {
     "name": "stdout",
     "output_type": "stream",
     "text": [
      "Number is Nothing\n"
     ]
    }
   ],
   "source": [
    "# 引数にスター(*) を付けるとvalueがなくてもエラーが発生しない\n",
    "log('Number is Nothing')"
   ]
  },
  {
   "cell_type": "code",
   "execution_count": 116,
   "metadata": {},
   "outputs": [],
   "source": [
    "# ただし、引数にスター(*) を付けてしまうと、本来意図しない引数として認識されてしまうこともある\n",
    "def log2(sequence, message, *value):\n",
    "    # values が空っぽの場合はメッセージのみを返す\n",
    "    if not value:\n",
    "        print(message, sequence)\n",
    "    else:\n",
    "        print(message, sequence,\"-\", value)"
   ]
  },
  {
   "cell_type": "code",
   "execution_count": 117,
   "metadata": {},
   "outputs": [
    {
     "name": "stdout",
     "output_type": "stream",
     "text": [
      "Number is 1 - (7, 13)\n"
     ]
    }
   ],
   "source": [
    "log2(1, 'Number is', 7, 13)"
   ]
  },
  {
   "cell_type": "code",
   "execution_count": 118,
   "metadata": {},
   "outputs": [
    {
     "name": "stdout",
     "output_type": "stream",
     "text": [
      "7 Number is - (13,)\n"
     ]
    }
   ],
   "source": [
    "# 一見まともな出力に見えるが、'Number is'がsequence、7 がmessage、13 が value に格納されている\n",
    "log2('Number is', 7, 13)"
   ]
  },
  {
   "cell_type": "code",
   "execution_count": null,
   "metadata": {},
   "outputs": [],
   "source": []
  }
 ],
 "metadata": {
  "kernelspec": {
   "display_name": "Python 3",
   "language": "python",
   "name": "python3"
  },
  "language_info": {
   "codemirror_mode": {
    "name": "ipython",
    "version": 3
   },
   "file_extension": ".py",
   "mimetype": "text/x-python",
   "name": "python",
   "nbconvert_exporter": "python",
   "pygments_lexer": "ipython3",
   "version": "3.7.7"
  }
 },
 "nbformat": 4,
 "nbformat_minor": 4
}
