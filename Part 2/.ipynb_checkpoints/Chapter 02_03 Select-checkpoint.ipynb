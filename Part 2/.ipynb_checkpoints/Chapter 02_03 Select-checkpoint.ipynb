{
 "cells": [
  {
   "cell_type": "markdown",
   "metadata": {},
   "source": [
    "### 2章 項目13 アンパック"
   ]
  },
  {
   "cell_type": "code",
   "execution_count": 12,
   "metadata": {},
   "outputs": [],
   "source": [
    "# 経過年数を表すリスト\n",
    "age_list = [0, 9, 4, 8, 7, 20, 19, 1, 6, 15]"
   ]
  },
  {
   "cell_type": "code",
   "execution_count": 13,
   "metadata": {},
   "outputs": [
    {
     "data": {
      "text/plain": [
       "[20, 19, 15, 9, 8, 7, 6, 4, 1, 0]"
      ]
     },
     "execution_count": 13,
     "metadata": {},
     "output_type": "execute_result"
    }
   ],
   "source": [
    "# 並び替え\n",
    "sorted_list = sorted(age_list, reverse=True)\n",
    "sorted_list"
   ]
  },
  {
   "cell_type": "code",
   "execution_count": 14,
   "metadata": {},
   "outputs": [
    {
     "ename": "ValueError",
     "evalue": "too many values to unpack (expected 2)",
     "output_type": "error",
     "traceback": [
      "\u001b[1;31m---------------------------------------------------------------------------\u001b[0m",
      "\u001b[1;31mValueError\u001b[0m                                Traceback (most recent call last)",
      "\u001b[1;32m<ipython-input-14-6f07495bfa6c>\u001b[0m in \u001b[0;36m<module>\u001b[1;34m\u001b[0m\n\u001b[0;32m      1\u001b[0m \u001b[1;31m# 1番目、2番目に大きいものを抽出\u001b[0m\u001b[1;33m\u001b[0m\u001b[1;33m\u001b[0m\u001b[1;33m\u001b[0m\u001b[0m\n\u001b[0;32m      2\u001b[0m \u001b[1;31m# エラーになる\u001b[0m\u001b[1;33m\u001b[0m\u001b[1;33m\u001b[0m\u001b[1;33m\u001b[0m\u001b[0m\n\u001b[1;32m----> 3\u001b[1;33m \u001b[0mbigest\u001b[0m\u001b[1;33m,\u001b[0m \u001b[0msecond_bigest\u001b[0m \u001b[1;33m=\u001b[0m \u001b[0msorted_list\u001b[0m\u001b[1;33m\u001b[0m\u001b[1;33m\u001b[0m\u001b[0m\n\u001b[0m",
      "\u001b[1;31mValueError\u001b[0m: too many values to unpack (expected 2)"
     ]
    }
   ],
   "source": [
    "# 1番目、2番目に大きいものを抽出\n",
    "# エラーになる\n",
    "bigest, second_bigest = sorted_list"
   ]
  },
  {
   "cell_type": "code",
   "execution_count": 17,
   "metadata": {},
   "outputs": [
    {
     "name": "stdout",
     "output_type": "stream",
     "text": [
      "bigest: 20, second_bigest: 19\n"
     ]
    }
   ],
   "source": [
    "# スライスで抽出\n",
    "bigest = sorted_list[0]\n",
    "second_bigest = sorted_list[1]\n",
    "print(f\"bigest: {bigest}, second_bigest: {second_bigest}\")"
   ]
  },
  {
   "cell_type": "code",
   "execution_count": 8,
   "metadata": {},
   "outputs": [],
   "source": [
    "# catch-allアンパック (*othersのこと)を使う\n",
    "bigest, second_bigest, *others = sorted_list"
   ]
  },
  {
   "cell_type": "code",
   "execution_count": 18,
   "metadata": {},
   "outputs": [
    {
     "name": "stdout",
     "output_type": "stream",
     "text": [
      "bigest: 20, second_bigest: 19, others: [15, 9, 8, 7, 6, 4, 1, 0]\n"
     ]
    }
   ],
   "source": [
    "print(f\"bigest: {bigest}, second_bigest: {second_bigest}, others: {others}\")"
   ]
  },
  {
   "cell_type": "code",
   "execution_count": 19,
   "metadata": {},
   "outputs": [
    {
     "ename": "SyntaxError",
     "evalue": "starred assignment target must be in a list or tuple (<ipython-input-19-667ab16b0a76>, line 5)",
     "output_type": "error",
     "traceback": [
      "\u001b[1;36m  File \u001b[1;32m\"<ipython-input-19-667ab16b0a76>\"\u001b[1;36m, line \u001b[1;32m5\u001b[0m\n\u001b[1;31mSyntaxError\u001b[0m\u001b[1;31m:\u001b[0m starred assignment target must be in a list or tuple\n"
     ]
    }
   ],
   "source": [
    "# 全てをcatch-allアンパックで受け取ろうとするとエラーになる\n",
    "*others = sorted_list"
   ]
  },
  {
   "cell_type": "code",
   "execution_count": 21,
   "metadata": {},
   "outputs": [],
   "source": [
    "# 辞書型の場合\n",
    "info = {\n",
    "    'age':(20, 19, 15, 9, 8, 7, 6, 4, 1, 0),\n",
    "    'type':(\"a\", \"b\", \"c\", \"d\", \"e\", \"f\", \"g\", \"h\", \"i\", \"j\")\n",
    "}"
   ]
  },
  {
   "cell_type": "code",
   "execution_count": 27,
   "metadata": {},
   "outputs": [],
   "source": [
    "# 辞書型のアンパック\n",
    "((key1, (value1, *value_others1)),\n",
    " (key2, (value2, *value_others2))) = info.items()"
   ]
  },
  {
   "cell_type": "code",
   "execution_count": 29,
   "metadata": {},
   "outputs": [
    {
     "name": "stdout",
     "output_type": "stream",
     "text": [
      "No.1 key age: values 20, values_others [19, 15, 9, 8, 7, 6, 4, 1, 0]\n",
      "No.2 key:values, values_others\n"
     ]
    }
   ],
   "source": [
    "print(f\"No.1 key {key1}: values {value1}, values_others {value_others1}\")\n",
    "print(f\"No.2 key {key2}: values {value2}, values_others {value_others2}\")"
   ]
  },
  {
   "cell_type": "code",
   "execution_count": 48,
   "metadata": {},
   "outputs": [],
   "source": [
    "# イテレータの場合\n",
    "def generate():\n",
    "    yield (\"a\", \"b\", \"c\")\n",
    "    yield (\"d\", \"e\", \"f\")\n",
    "    yield (\"g\", \"h\", \"i\")\n",
    "    yield (\"j\", \"k\", \"l\")"
   ]
  },
  {
   "cell_type": "code",
   "execution_count": 49,
   "metadata": {},
   "outputs": [],
   "source": [
    "it = generate()"
   ]
  },
  {
   "cell_type": "code",
   "execution_count": 50,
   "metadata": {},
   "outputs": [
    {
     "name": "stdout",
     "output_type": "stream",
     "text": [
      "first: ('a', 'b', 'c'), others: [('d', 'e', 'f'), ('g', 'h', 'i'), ('j', 'k', 'l')]\n"
     ]
    }
   ],
   "source": [
    "# イテレータのアンパック\n",
    "first, *others = it\n",
    "print(f\"first: {first}, others: {others}\")"
   ]
  },
  {
   "cell_type": "code",
   "execution_count": 51,
   "metadata": {},
   "outputs": [],
   "source": [
    "# スライスを使う場合\n",
    "it_list = list(generate())"
   ]
  },
  {
   "cell_type": "code",
   "execution_count": 53,
   "metadata": {},
   "outputs": [
    {
     "name": "stdout",
     "output_type": "stream",
     "text": [
      "first: ('a', 'b', 'c'), others: [('d', 'e', 'f'), ('g', 'h', 'i'), ('j', 'k', 'l')]\n"
     ]
    }
   ],
   "source": [
    "print(f\"first: {it_list[0]}, others: {it_list[1:]}\")"
   ]
  },
  {
   "cell_type": "markdown",
   "metadata": {},
   "source": [
    "### 3章 項目22 可変長位置引数、スター引数"
   ]
  },
  {
   "cell_type": "code",
   "execution_count": 55,
   "metadata": {},
   "outputs": [],
   "source": [
    "# アンパックは空っぽのリストを自動で代入してくれる\n",
    "num_list2 = [5]"
   ]
  },
  {
   "cell_type": "code",
   "execution_count": 58,
   "metadata": {},
   "outputs": [
    {
     "name": "stdout",
     "output_type": "stream",
     "text": [
      "first: 5, others: []\n"
     ]
    }
   ],
   "source": [
    "# othersに代入するリストはないので、自動的に空っぽのリストが入る\n",
    "first, *others = num_list2\n",
    "print(f\"first: {first}, others: {others}\")"
   ]
  },
  {
   "cell_type": "code",
   "execution_count": 59,
   "metadata": {},
   "outputs": [],
   "source": [
    "# スライスを使う場合は、空のリストを指定する必要が生じる\n",
    "first, others = num_list[0], []"
   ]
  },
  {
   "cell_type": "code",
   "execution_count": 62,
   "metadata": {},
   "outputs": [],
   "source": [
    "def log(message, value):\n",
    "    # values が空っぽの場合はメッセージのみを返す\n",
    "    if not value:\n",
    "        print(message)\n",
    "    else:\n",
    "        print(message, value)"
   ]
  },
  {
   "cell_type": "code",
   "execution_count": 63,
   "metadata": {},
   "outputs": [
    {
     "name": "stdout",
     "output_type": "stream",
     "text": [
      "Number is [1, 2]\n"
     ]
    }
   ],
   "source": [
    "# value がある場合\n",
    "log('Number is', [1, 2])"
   ]
  },
  {
   "cell_type": "code",
   "execution_count": 64,
   "metadata": {},
   "outputs": [
    {
     "ename": "TypeError",
     "evalue": "log() missing 1 required positional argument: 'value'",
     "output_type": "error",
     "traceback": [
      "\u001b[1;31m---------------------------------------------------------------------------\u001b[0m",
      "\u001b[1;31mTypeError\u001b[0m                                 Traceback (most recent call last)",
      "\u001b[1;32m<ipython-input-64-3e547894f1e6>\u001b[0m in \u001b[0;36m<module>\u001b[1;34m\u001b[0m\n\u001b[1;32m----> 1\u001b[1;33m \u001b[0mlog\u001b[0m\u001b[1;33m(\u001b[0m\u001b[1;34m'Number is Nothing'\u001b[0m\u001b[1;33m)\u001b[0m\u001b[1;33m\u001b[0m\u001b[1;33m\u001b[0m\u001b[0m\n\u001b[0m",
      "\u001b[1;31mTypeError\u001b[0m: log() missing 1 required positional argument: 'value'"
     ]
    }
   ],
   "source": [
    "# value がない場合はエラーになる\n",
    "log('Number is Nothing')"
   ]
  },
  {
   "cell_type": "code",
   "execution_count": 65,
   "metadata": {},
   "outputs": [
    {
     "name": "stdout",
     "output_type": "stream",
     "text": [
      "Number is Nothing\n"
     ]
    }
   ],
   "source": [
    "# value がない場合は 空のリストを指定する必要がある\n",
    "log('Number is Nothing', [])"
   ]
  },
  {
   "cell_type": "code",
   "execution_count": 66,
   "metadata": {},
   "outputs": [],
   "source": [
    "# 引数にスター(*) を付けてアンパックを使う\n",
    "def log(message, *value):\n",
    "    # values が空っぽの場合はメッセージのみを返す\n",
    "    if not value:\n",
    "        print(message)\n",
    "    else:\n",
    "        print(message, value)"
   ]
  },
  {
   "cell_type": "code",
   "execution_count": 67,
   "metadata": {},
   "outputs": [
    {
     "name": "stdout",
     "output_type": "stream",
     "text": [
      "Number is Nothing\n"
     ]
    }
   ],
   "source": [
    "# 引数にスター(*) を付けるとvalueがなくてもエラーが発生しない\n",
    "log('Number is Nothing')"
   ]
  },
  {
   "cell_type": "code",
   "execution_count": 68,
   "metadata": {},
   "outputs": [],
   "source": [
    "# ただしイテレータ\n",
    "def my_generator():\n",
    "    for i in range(10):\n",
    "        yield i\n",
    "\n",
    "def my_func(*args):\n",
    "    print(args)"
   ]
  },
  {
   "cell_type": "code",
   "execution_count": 69,
   "metadata": {},
   "outputs": [
    {
     "name": "stdout",
     "output_type": "stream",
     "text": [
      "(<generator object my_generator at 0x000001AC75224BC8>,)\n"
     ]
    }
   ],
   "source": [
    "it = my_generator()"
   ]
  },
  {
   "cell_type": "code",
   "execution_count": 70,
   "metadata": {},
   "outputs": [
    {
     "name": "stdout",
     "output_type": "stream",
     "text": [
      "(0, 1, 2, 3, 4, 5, 6, 7, 8, 9)\n"
     ]
    }
   ],
   "source": [
    "my_func(*it)"
   ]
  },
  {
   "cell_type": "code",
   "execution_count": 71,
   "metadata": {},
   "outputs": [],
   "source": [
    "def my_func2(args):\n",
    "    print(args)"
   ]
  },
  {
   "cell_type": "code",
   "execution_count": 83,
   "metadata": {},
   "outputs": [],
   "source": [
    "# ただし、引数にスター(*) を付けてしまうと、本来意図しない引数として認識されてしまうこともある\n",
    "def log2(sequence, message, *value):\n",
    "    # values が空っぽの場合はメッセージのみを返す\n",
    "    if not value:\n",
    "        print(sequence, message)\n",
    "    else:\n",
    "        print(sequence, message, value)"
   ]
  },
  {
   "cell_type": "code",
   "execution_count": 100,
   "metadata": {},
   "outputs": [
    {
     "name": "stdout",
     "output_type": "stream",
     "text": [
      "1 Number is (7, 13)\n"
     ]
    }
   ],
   "source": [
    "log2(1, 'Number is', 7, 13)"
   ]
  },
  {
   "cell_type": "code",
   "execution_count": 101,
   "metadata": {},
   "outputs": [
    {
     "name": "stdout",
     "output_type": "stream",
     "text": [
      "Number is 7 (13,)\n"
     ]
    }
   ],
   "source": [
    "# 一見まともな出力に見えるが、'Number is'がsequence、7 がmessage、13 が value に格納されている\n",
    "log2('Number is', 7, 13)"
   ]
  },
  {
   "cell_type": "code",
   "execution_count": 90,
   "metadata": {},
   "outputs": [],
   "source": [
    "# ただし、引数にスター(*) を付けてしまうと、本来意図しない引数として認識されてしまうこともある\n",
    "def log3(sequence, message, *value):\n",
    "    # values が空っぽの場合はメッセージのみを返す\n",
    "    if not value:\n",
    "        print(sequence, message)\n",
    "    else:\n",
    "        print(sequence, message, value, sequence*value)"
   ]
  },
  {
   "cell_type": "code",
   "execution_count": 97,
   "metadata": {},
   "outputs": [
    {
     "name": "stdout",
     "output_type": "stream",
     "text": [
      "2 Number is (7, 13, 29) (7, 13, 29, 7, 13, 29)\n"
     ]
    }
   ],
   "source": [
    "log3(2, 'Number is', 7, 13, 29)"
   ]
  },
  {
   "cell_type": "code",
   "execution_count": 98,
   "metadata": {},
   "outputs": [
    {
     "ename": "TypeError",
     "evalue": "can't multiply sequence by non-int of type 'tuple'",
     "output_type": "error",
     "traceback": [
      "\u001b[1;31m---------------------------------------------------------------------------\u001b[0m",
      "\u001b[1;31mTypeError\u001b[0m                                 Traceback (most recent call last)",
      "\u001b[1;32m<ipython-input-98-cb804f761c0e>\u001b[0m in \u001b[0;36m<module>\u001b[1;34m\u001b[0m\n\u001b[1;32m----> 1\u001b[1;33m \u001b[0mlog3\u001b[0m\u001b[1;33m(\u001b[0m\u001b[1;34m'Number is'\u001b[0m\u001b[1;33m,\u001b[0m \u001b[1;36m7\u001b[0m\u001b[1;33m,\u001b[0m \u001b[1;36m13\u001b[0m\u001b[1;33m)\u001b[0m\u001b[1;33m\u001b[0m\u001b[1;33m\u001b[0m\u001b[0m\n\u001b[0m",
      "\u001b[1;32m<ipython-input-90-84e6af3f1392>\u001b[0m in \u001b[0;36mlog3\u001b[1;34m(sequence, message, *value)\u001b[0m\n\u001b[0;32m      5\u001b[0m         \u001b[0mprint\u001b[0m\u001b[1;33m(\u001b[0m\u001b[0msequence\u001b[0m\u001b[1;33m,\u001b[0m \u001b[0mmessage\u001b[0m\u001b[1;33m)\u001b[0m\u001b[1;33m\u001b[0m\u001b[1;33m\u001b[0m\u001b[0m\n\u001b[0;32m      6\u001b[0m     \u001b[1;32melse\u001b[0m\u001b[1;33m:\u001b[0m\u001b[1;33m\u001b[0m\u001b[1;33m\u001b[0m\u001b[0m\n\u001b[1;32m----> 7\u001b[1;33m         \u001b[0mprint\u001b[0m\u001b[1;33m(\u001b[0m\u001b[0msequence\u001b[0m\u001b[1;33m,\u001b[0m \u001b[0mmessage\u001b[0m\u001b[1;33m,\u001b[0m \u001b[0mvalue\u001b[0m\u001b[1;33m,\u001b[0m \u001b[0msequence\u001b[0m\u001b[1;33m*\u001b[0m\u001b[0mvalue\u001b[0m\u001b[1;33m)\u001b[0m\u001b[1;33m\u001b[0m\u001b[1;33m\u001b[0m\u001b[0m\n\u001b[0m",
      "\u001b[1;31mTypeError\u001b[0m: can't multiply sequence by non-int of type 'tuple'"
     ]
    }
   ],
   "source": [
    "log3('Number is', 7, 13)"
   ]
  },
  {
   "cell_type": "code",
   "execution_count": null,
   "metadata": {},
   "outputs": [],
   "source": []
  }
 ],
 "metadata": {
  "kernelspec": {
   "display_name": "Python 3",
   "language": "python",
   "name": "python3"
  },
  "language_info": {
   "codemirror_mode": {
    "name": "ipython",
    "version": 3
   },
   "file_extension": ".py",
   "mimetype": "text/x-python",
   "name": "python",
   "nbconvert_exporter": "python",
   "pygments_lexer": "ipython3",
   "version": "3.7.7"
  }
 },
 "nbformat": 4,
 "nbformat_minor": 4
}
